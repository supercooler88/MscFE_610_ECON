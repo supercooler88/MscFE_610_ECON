{
 "cells": [
  {
   "cell_type": "code",
   "execution_count": 1,
   "metadata": {},
   "outputs": [],
   "source": [
    "import pandas as pd\n",
    "import numpy as np\n",
    "from statsmodels.tsa.statespace.sarimax import SARIMAX\n",
    "import matplotlib.pyplot as plt\n",
    "import seaborn as sns; sns.set()\n",
    "from itertools import product\n"
   ]
  },
  {
   "cell_type": "markdown",
   "metadata": {},
   "source": [
    "## Basic Statistics"
   ]
  },
  {
   "cell_type": "code",
   "execution_count": 2,
   "metadata": {},
   "outputs": [
    {
     "data": {
      "text/html": [
       "<div>\n",
       "<style scoped>\n",
       "    .dataframe tbody tr th:only-of-type {\n",
       "        vertical-align: middle;\n",
       "    }\n",
       "\n",
       "    .dataframe tbody tr th {\n",
       "        vertical-align: top;\n",
       "    }\n",
       "\n",
       "    .dataframe thead th {\n",
       "        text-align: right;\n",
       "    }\n",
       "</style>\n",
       "<table border=\"1\" class=\"dataframe\">\n",
       "  <thead>\n",
       "    <tr style=\"text-align: right;\">\n",
       "      <th></th>\n",
       "      <th>Date</th>\n",
       "      <th>Adj Close</th>\n",
       "      <th>return</th>\n",
       "    </tr>\n",
       "  </thead>\n",
       "  <tbody>\n",
       "    <tr>\n",
       "      <td>1</td>\n",
       "      <td>2018-02-02</td>\n",
       "      <td>106.061226</td>\n",
       "      <td>-0.022411</td>\n",
       "    </tr>\n",
       "    <tr>\n",
       "      <td>2</td>\n",
       "      <td>2018-02-05</td>\n",
       "      <td>100.975327</td>\n",
       "      <td>-0.049140</td>\n",
       "    </tr>\n",
       "    <tr>\n",
       "      <td>3</td>\n",
       "      <td>2018-02-06</td>\n",
       "      <td>104.047287</td>\n",
       "      <td>0.029969</td>\n",
       "    </tr>\n",
       "    <tr>\n",
       "      <td>4</td>\n",
       "      <td>2018-02-07</td>\n",
       "      <td>104.752632</td>\n",
       "      <td>0.006756</td>\n",
       "    </tr>\n",
       "    <tr>\n",
       "      <td>5</td>\n",
       "      <td>2018-02-08</td>\n",
       "      <td>100.121498</td>\n",
       "      <td>-0.045217</td>\n",
       "    </tr>\n",
       "  </tbody>\n",
       "</table>\n",
       "</div>"
      ],
      "text/plain": [
       "        Date   Adj Close    return\n",
       "1 2018-02-02  106.061226 -0.022411\n",
       "2 2018-02-05  100.975327 -0.049140\n",
       "3 2018-02-06  104.047287  0.029969\n",
       "4 2018-02-07  104.752632  0.006756\n",
       "5 2018-02-08  100.121498 -0.045217"
      ]
     },
     "execution_count": 2,
     "metadata": {},
     "output_type": "execute_result"
    }
   ],
   "source": [
    "jpm = pd.read_excel('JPM Statistics and Regression Analysis.xlsx', usecols=[0,5], parse_dates=True)\n",
    "jpm['return']= np.log(jpm['Adj Close']/jpm['Adj Close'].shift(1))\n",
    "jpm.dropna(inplace=True)\n",
    "jpm.head()"
   ]
  },
  {
   "cell_type": "code",
   "execution_count": 3,
   "metadata": {},
   "outputs": [
    {
     "data": {
      "text/plain": [
       "103.55366909210528"
      ]
     },
     "execution_count": 3,
     "metadata": {},
     "output_type": "execute_result"
    },
    {
     "data": {
      "text/plain": [
       "0.01438700397839891"
      ]
     },
     "execution_count": 3,
     "metadata": {},
     "output_type": "execute_result"
    }
   ],
   "source": [
    "average_price = np.mean(jpm['Adj Close'])\n",
    "stock_volatility = np.std(jpm['return'].dropna())\n",
    "average_price\n",
    "stock_volatility"
   ]
  },
  {
   "cell_type": "markdown",
   "metadata": {},
   "source": [
    "## Linear Regression"
   ]
  },
  {
   "cell_type": "code",
   "execution_count": 4,
   "metadata": {},
   "outputs": [
    {
     "data": {
      "text/html": [
       "<div>\n",
       "<style scoped>\n",
       "    .dataframe tbody tr th:only-of-type {\n",
       "        vertical-align: middle;\n",
       "    }\n",
       "\n",
       "    .dataframe tbody tr th {\n",
       "        vertical-align: top;\n",
       "    }\n",
       "\n",
       "    .dataframe thead th {\n",
       "        text-align: right;\n",
       "    }\n",
       "</style>\n",
       "<table border=\"1\" class=\"dataframe\">\n",
       "  <thead>\n",
       "    <tr style=\"text-align: right;\">\n",
       "      <th></th>\n",
       "      <th>Date</th>\n",
       "      <th>S&amp;P 500 Adj Close Price (X)</th>\n",
       "      <th>return</th>\n",
       "    </tr>\n",
       "  </thead>\n",
       "  <tbody>\n",
       "    <tr>\n",
       "      <td>1</td>\n",
       "      <td>2018-02-02</td>\n",
       "      <td>2762.129883</td>\n",
       "      <td>-0.021437</td>\n",
       "    </tr>\n",
       "    <tr>\n",
       "      <td>2</td>\n",
       "      <td>2018-02-05</td>\n",
       "      <td>2648.939941</td>\n",
       "      <td>-0.041843</td>\n",
       "    </tr>\n",
       "    <tr>\n",
       "      <td>3</td>\n",
       "      <td>2018-02-06</td>\n",
       "      <td>2695.139893</td>\n",
       "      <td>0.017291</td>\n",
       "    </tr>\n",
       "    <tr>\n",
       "      <td>4</td>\n",
       "      <td>2018-02-07</td>\n",
       "      <td>2681.659912</td>\n",
       "      <td>-0.005014</td>\n",
       "    </tr>\n",
       "    <tr>\n",
       "      <td>5</td>\n",
       "      <td>2018-02-08</td>\n",
       "      <td>2581.000000</td>\n",
       "      <td>-0.038259</td>\n",
       "    </tr>\n",
       "  </tbody>\n",
       "</table>\n",
       "</div>"
      ],
      "text/plain": [
       "        Date  S&P 500 Adj Close Price (X)    return\n",
       "1 2018-02-02                  2762.129883 -0.021437\n",
       "2 2018-02-05                  2648.939941 -0.041843\n",
       "3 2018-02-06                  2695.139893  0.017291\n",
       "4 2018-02-07                  2681.659912 -0.005014\n",
       "5 2018-02-08                  2581.000000 -0.038259"
      ]
     },
     "execution_count": 4,
     "metadata": {},
     "output_type": "execute_result"
    }
   ],
   "source": [
    "SP = pd.read_excel('JPM Statistics and Regression Analysis.xlsx',sheet_name='Regression Analysis', usecols=[0,2], parse_dates=True)\n",
    "SP['return']= np.log(SP['S&P 500 Adj Close Price (X)']/SP['S&P 500 Adj Close Price (X)'].shift(1))\n",
    "SP.dropna(inplace=True)\n",
    "SP.head()"
   ]
  },
  {
   "cell_type": "code",
   "execution_count": 5,
   "metadata": {},
   "outputs": [
    {
     "data": {
      "image/png": "[encoded data removed]",
      "text/plain": [
       "<Figure size 432x288 with 1 Axes>"
      ]
     },
     "metadata": {
      "needs_background": "light"
     },
     "output_type": "display_data"
    }
   ],
   "source": [
    "from sklearn.linear_model import LinearRegression\n",
    "model = LinearRegression(fit_intercept=True)\n",
    "\n",
    "X = SP['return']\n",
    "y = jpm['return']\n",
    "\n",
    "model.fit(X[:, np.newaxis], y)\n",
    "\n",
    "yfit = model.predict(X[:, np.newaxis])\n",
    "fig, ax1 = plt.subplots()\n",
    "plt.scatter(X, y)\n",
    "plt.plot(X, yfit, color='red');"
   ]
  },
  {
   "cell_type": "code",
   "execution_count": 6,
   "metadata": {},
   "outputs": [
    {
     "name": "stdout",
     "output_type": "stream",
     "text": [
      "Model slope:     1.0046023652612033\n",
      "Model intercept: -0.00018946070310245768\n",
      "R squared:  0.6010890997528382\n"
     ]
    }
   ],
   "source": [
    "print(\"Model slope:    \", model.coef_[0])\n",
    "print(\"Model intercept:\", model.intercept_)\n",
    "print(\"R squared: \", model.score(X[:, np.newaxis],y))"
   ]
  },
  {
   "cell_type": "markdown",
   "metadata": {},
   "source": [
    "## Linear Regression II"
   ]
  },
  {
   "cell_type": "code",
   "execution_count": 7,
   "metadata": {},
   "outputs": [],
   "source": [
    "import statsmodels.api as sm"
   ]
  },
  {
   "cell_type": "code",
   "execution_count": 8,
   "metadata": {},
   "outputs": [
    {
     "name": "stderr",
     "output_type": "stream",
     "text": [
      "C:\\Users\\tlfmc\\Anaconda3\\envs\\deeplearning.ai\\lib\\site-packages\\numpy\\core\\fromnumeric.py:2542: FutureWarning: Method .ptp is deprecated and will be removed in a future version. Use numpy.ptp instead.\n",
      "  return ptp(axis=axis, out=out, **kwargs)\n"
     ]
    }
   ],
   "source": [
    "x = sm.add_constant(X)"
   ]
  },
  {
   "cell_type": "code",
   "execution_count": 9,
   "metadata": {},
   "outputs": [],
   "source": [
    "model = sm.OLS(y, x)"
   ]
  },
  {
   "cell_type": "code",
   "execution_count": 10,
   "metadata": {},
   "outputs": [],
   "source": [
    "results = model.fit()"
   ]
  },
  {
   "cell_type": "code",
   "execution_count": 11,
   "metadata": {},
   "outputs": [
    {
     "name": "stdout",
     "output_type": "stream",
     "text": [
      "                            OLS Regression Results                            \n",
      "==============================================================================\n",
      "Dep. Variable:                 return   R-squared:                       0.601\n",
      "Model:                            OLS   Adj. R-squared:                  0.599\n",
      "Method:                 Least Squares   F-statistic:                     340.5\n",
      "Date:                Sat, 26 Sep 2020   Prob (F-statistic):           5.40e-47\n",
      "Time:                        23:37:33   Log-Likelihood:                 748.30\n",
      "No. Observations:                 228   AIC:                            -1493.\n",
      "Df Residuals:                     226   BIC:                            -1486.\n",
      "Df Model:                           1                                         \n",
      "Covariance Type:            nonrobust                                         \n",
      "==============================================================================\n",
      "                 coef    std err          t      P>|t|      [0.025      0.975]\n",
      "------------------------------------------------------------------------------\n",
      "const         -0.0002      0.001     -0.313      0.755      -0.001       0.001\n",
      "return         1.0046      0.054     18.454      0.000       0.897       1.112\n",
      "==============================================================================\n",
      "Omnibus:                       22.044   Durbin-Watson:                   2.190\n",
      "Prob(Omnibus):                  0.000   Jarque-Bera (JB):               57.785\n",
      "Skew:                           0.378   Prob(JB):                     2.83e-13\n",
      "Kurtosis:                       5.348   Cond. No.                         90.1\n",
      "==============================================================================\n",
      "\n",
      "Warnings:\n",
      "[1] Standard Errors assume that the covariance matrix of the errors is correctly specified.\n"
     ]
    }
   ],
   "source": [
    "print(results.summary())"
   ]
  },
  {
   "cell_type": "markdown",
   "metadata": {},
   "source": [
    "## Univariate Time Series"
   ]
  },
  {
   "cell_type": "code",
   "execution_count": 12,
   "metadata": {},
   "outputs": [
    {
     "data": {
      "text/html": [
       "<div>\n",
       "<style scoped>\n",
       "    .dataframe tbody tr th:only-of-type {\n",
       "        vertical-align: middle;\n",
       "    }\n",
       "\n",
       "    .dataframe tbody tr th {\n",
       "        vertical-align: top;\n",
       "    }\n",
       "\n",
       "    .dataframe thead th {\n",
       "        text-align: right;\n",
       "    }\n",
       "</style>\n",
       "<table border=\"1\" class=\"dataframe\">\n",
       "  <thead>\n",
       "    <tr style=\"text-align: right;\">\n",
       "      <th></th>\n",
       "      <th>CSUSHPISA</th>\n",
       "    </tr>\n",
       "    <tr>\n",
       "      <th>observation_date</th>\n",
       "      <th></th>\n",
       "    </tr>\n",
       "  </thead>\n",
       "  <tbody>\n",
       "    <tr>\n",
       "      <td>2020-02-01</td>\n",
       "      <td>215.702</td>\n",
       "    </tr>\n",
       "    <tr>\n",
       "      <td>2020-03-01</td>\n",
       "      <td>216.731</td>\n",
       "    </tr>\n",
       "    <tr>\n",
       "      <td>2020-04-01</td>\n",
       "      <td>217.597</td>\n",
       "    </tr>\n",
       "    <tr>\n",
       "      <td>2020-05-01</td>\n",
       "      <td>217.691</td>\n",
       "    </tr>\n",
       "    <tr>\n",
       "      <td>2020-06-01</td>\n",
       "      <td>218.058</td>\n",
       "    </tr>\n",
       "  </tbody>\n",
       "</table>\n",
       "</div>"
      ],
      "text/plain": [
       "                  CSUSHPISA\n",
       "observation_date           \n",
       "2020-02-01          215.702\n",
       "2020-03-01          216.731\n",
       "2020-04-01          217.597\n",
       "2020-05-01          217.691\n",
       "2020-06-01          218.058"
      ]
     },
     "execution_count": 12,
     "metadata": {},
     "output_type": "execute_result"
    },
    {
     "data": {
      "text/plain": [
       "DatetimeIndex(['1987-01-01', '1987-02-01', '1987-03-01', '1987-04-01',\n",
       "               '1987-05-01', '1987-06-01', '1987-07-01', '1987-08-01',\n",
       "               '1987-09-01', '1987-10-01',\n",
       "               ...\n",
       "               '2019-09-01', '2019-10-01', '2019-11-01', '2019-12-01',\n",
       "               '2020-01-01', '2020-02-01', '2020-03-01', '2020-04-01',\n",
       "               '2020-05-01', '2020-06-01'],\n",
       "              dtype='datetime64[ns]', name='observation_date', length=402, freq='MS')"
      ]
     },
     "execution_count": 12,
     "metadata": {},
     "output_type": "execute_result"
    }
   ],
   "source": [
    "home_price = pd.read_excel(\"CSUSHPISA.xls\", skiprows=10, index_col='observation_date', parse_dates=True)\n",
    "home_price = home_price.asfreq('MS')\n",
    "home_price.tail()\n",
    "home_price.index"
   ]
  },
  {
   "cell_type": "code",
   "execution_count": 13,
   "metadata": {},
   "outputs": [
    {
     "data": {
      "text/plain": [
       "<matplotlib.axes._subplots.AxesSubplot at 0x26e9852cc50>"
      ]
     },
     "execution_count": 13,
     "metadata": {},
     "output_type": "execute_result"
    },
    {
     "data": {
      "image/png": "[encoded data removed]",
      "text/plain": [
       "<Figure size 432x288 with 1 Axes>"
      ]
     },
     "metadata": {
      "needs_background": "light"
     },
     "output_type": "display_data"
    }
   ],
   "source": [
    "home_price.plot()"
   ]
  },
  {
   "cell_type": "code",
   "execution_count": 14,
   "metadata": {},
   "outputs": [],
   "source": [
    "from statsmodels.graphics.tsaplots import plot_acf, plot_pacf"
   ]
  },
  {
   "cell_type": "markdown",
   "metadata": {},
   "source": [
    "# Create figure\n",
    "fig, (ax1, ax2) = plt.subplots(2,1, figsize=(8,8))\n",
    "# Make ACF plot\n",
    "plot_acf(home_price, lags=1, zero=False, ax=ax1)\n",
    "# Make PACF plot\n",
    "plot_pacf(home_price, lags=1, zero=False, ax=ax2)\n",
    "plt.show()"
   ]
  },
  {
   "cell_type": "code",
   "execution_count": 15,
   "metadata": {},
   "outputs": [],
   "source": [
    "#Split the data between training and test data\n",
    "hpi_train = home_price[:'2018']\n",
    "hpi_test = home_price['2019':]\n",
    "y_train = hpi_train['CSUSHPISA']\n"
   ]
  },
  {
   "cell_type": "markdown",
   "metadata": {},
   "source": [
    "### Forecast S&P/Case-Shvalue_countsU.S. National Home Price Index using an ARMA model."
   ]
  },
  {
   "cell_type": "code",
   "execution_count": 16,
   "metadata": {},
   "outputs": [
    {
     "name": "stderr",
     "output_type": "stream",
     "text": [
      "C:\\Users\\tlfmc\\Anaconda3\\envs\\deeplearning.ai\\lib\\site-packages\\numpy\\linalg\\linalg.py:1965: RuntimeWarning: invalid value encountered in greater\n",
      "  large = s > cutoff\n",
      "C:\\Users\\tlfmc\\Anaconda3\\envs\\deeplearning.ai\\lib\\site-packages\\statsmodels\\tsa\\statespace\\sarimax.py:975: UserWarning: Non-invertible starting MA parameters found. Using zeros as starting parameters.\n",
      "  warn('Non-invertible starting MA parameters found.'\n",
      "C:\\Users\\tlfmc\\Anaconda3\\envs\\deeplearning.ai\\lib\\site-packages\\statsmodels\\tsa\\statespace\\sarimax.py:963: UserWarning: Non-stationary starting autoregressive parameters found. Using zeros as starting parameters.\n",
      "  warn('Non-stationary starting autoregressive parameters'\n",
      "C:\\Users\\tlfmc\\Anaconda3\\envs\\deeplearning.ai\\lib\\site-packages\\statsmodels\\base\\model.py:568: ConvergenceWarning: Maximum Likelihood optimization failed to converge. Check mle_retvals\n",
      "  \"Check mle_retvals\", ConvergenceWarning)\n",
      "C:\\Users\\tlfmc\\Anaconda3\\envs\\deeplearning.ai\\lib\\site-packages\\statsmodels\\base\\model.py:568: ConvergenceWarning: Maximum Likelihood optimization failed to converge. Check mle_retvals\n",
      "  \"Check mle_retvals\", ConvergenceWarning)\n",
      "C:\\Users\\tlfmc\\Anaconda3\\envs\\deeplearning.ai\\lib\\site-packages\\statsmodels\\base\\model.py:568: ConvergenceWarning: Maximum Likelihood optimization failed to converge. Check mle_retvals\n",
      "  \"Check mle_retvals\", ConvergenceWarning)\n",
      "C:\\Users\\tlfmc\\Anaconda3\\envs\\deeplearning.ai\\lib\\site-packages\\statsmodels\\base\\model.py:568: ConvergenceWarning: Maximum Likelihood optimization failed to converge. Check mle_retvals\n",
      "  \"Check mle_retvals\", ConvergenceWarning)\n",
      "C:\\Users\\tlfmc\\Anaconda3\\envs\\deeplearning.ai\\lib\\site-packages\\statsmodels\\base\\model.py:568: ConvergenceWarning: Maximum Likelihood optimization failed to converge. Check mle_retvals\n",
      "  \"Check mle_retvals\", ConvergenceWarning)\n",
      "C:\\Users\\tlfmc\\Anaconda3\\envs\\deeplearning.ai\\lib\\site-packages\\statsmodels\\base\\model.py:568: ConvergenceWarning: Maximum Likelihood optimization failed to converge. Check mle_retvals\n",
      "  \"Check mle_retvals\", ConvergenceWarning)\n",
      "C:\\Users\\tlfmc\\Anaconda3\\envs\\deeplearning.ai\\lib\\site-packages\\statsmodels\\base\\model.py:568: ConvergenceWarning: Maximum Likelihood optimization failed to converge. Check mle_retvals\n",
      "  \"Check mle_retvals\", ConvergenceWarning)\n"
     ]
    }
   ],
   "source": [
    "order_aic_bic =[]\n",
    "# Loop over AR order\n",
    "for p in range(4):\n",
    "    # Loop over MA order\n",
    "    for q in range(4):\n",
    "        # Fit model\n",
    "        model = SARIMAX(home_price, order=(p,0,q))\n",
    "        try:\n",
    "            results = model.fit()\n",
    "        except:\n",
    "            pass\n",
    "        # print the model order and the AIC/BIC values\n",
    "        #print(p, q, results.aic, results.bic)\n",
    "        # Add order and scores to list\n",
    "        order_aic_bic.append((p, q, results.aic, results.bic))\n",
    "# Make DataFrame of model order and AIC/BIC scores\n",
    "order_df = pd.DataFrame(order_aic_bic, columns=['p','q', 'aic', 'bic'])"
   ]
  },
  {
   "cell_type": "code",
   "execution_count": 17,
   "metadata": {},
   "outputs": [
    {
     "data": {
      "text/html": [
       "<div>\n",
       "<style scoped>\n",
       "    .dataframe tbody tr th:only-of-type {\n",
       "        vertical-align: middle;\n",
       "    }\n",
       "\n",
       "    .dataframe tbody tr th {\n",
       "        vertical-align: top;\n",
       "    }\n",
       "\n",
       "    .dataframe thead th {\n",
       "        text-align: right;\n",
       "    }\n",
       "</style>\n",
       "<table border=\"1\" class=\"dataframe\">\n",
       "  <thead>\n",
       "    <tr style=\"text-align: right;\">\n",
       "      <th></th>\n",
       "      <th>p</th>\n",
       "      <th>q</th>\n",
       "      <th>aic</th>\n",
       "      <th>bic</th>\n",
       "    </tr>\n",
       "  </thead>\n",
       "  <tbody>\n",
       "    <tr>\n",
       "      <td>13</td>\n",
       "      <td>3</td>\n",
       "      <td>1</td>\n",
       "      <td>50.721073</td>\n",
       "      <td>70.703334</td>\n",
       "    </tr>\n",
       "    <tr>\n",
       "      <td>14</td>\n",
       "      <td>3</td>\n",
       "      <td>2</td>\n",
       "      <td>56.131980</td>\n",
       "      <td>80.110693</td>\n",
       "    </tr>\n",
       "    <tr>\n",
       "      <td>15</td>\n",
       "      <td>3</td>\n",
       "      <td>3</td>\n",
       "      <td>61.047322</td>\n",
       "      <td>89.022487</td>\n",
       "    </tr>\n",
       "    <tr>\n",
       "      <td>10</td>\n",
       "      <td>2</td>\n",
       "      <td>2</td>\n",
       "      <td>61.914472</td>\n",
       "      <td>81.896733</td>\n",
       "    </tr>\n",
       "    <tr>\n",
       "      <td>8</td>\n",
       "      <td>2</td>\n",
       "      <td>0</td>\n",
       "      <td>74.893293</td>\n",
       "      <td>86.882650</td>\n",
       "    </tr>\n",
       "    <tr>\n",
       "      <td>12</td>\n",
       "      <td>3</td>\n",
       "      <td>0</td>\n",
       "      <td>219.384372</td>\n",
       "      <td>235.370180</td>\n",
       "    </tr>\n",
       "    <tr>\n",
       "      <td>7</td>\n",
       "      <td>1</td>\n",
       "      <td>3</td>\n",
       "      <td>293.430175</td>\n",
       "      <td>313.412436</td>\n",
       "    </tr>\n",
       "    <tr>\n",
       "      <td>6</td>\n",
       "      <td>1</td>\n",
       "      <td>2</td>\n",
       "      <td>384.680624</td>\n",
       "      <td>400.666432</td>\n",
       "    </tr>\n",
       "    <tr>\n",
       "      <td>11</td>\n",
       "      <td>2</td>\n",
       "      <td>3</td>\n",
       "      <td>386.657915</td>\n",
       "      <td>410.636628</td>\n",
       "    </tr>\n",
       "    <tr>\n",
       "      <td>5</td>\n",
       "      <td>1</td>\n",
       "      <td>1</td>\n",
       "      <td>637.481470</td>\n",
       "      <td>649.470826</td>\n",
       "    </tr>\n",
       "    <tr>\n",
       "      <td>9</td>\n",
       "      <td>2</td>\n",
       "      <td>1</td>\n",
       "      <td>932.718192</td>\n",
       "      <td>948.704001</td>\n",
       "    </tr>\n",
       "    <tr>\n",
       "      <td>4</td>\n",
       "      <td>1</td>\n",
       "      <td>0</td>\n",
       "      <td>1001.040607</td>\n",
       "      <td>1009.033511</td>\n",
       "    </tr>\n",
       "    <tr>\n",
       "      <td>3</td>\n",
       "      <td>0</td>\n",
       "      <td>3</td>\n",
       "      <td>3518.691106</td>\n",
       "      <td>3534.676915</td>\n",
       "    </tr>\n",
       "    <tr>\n",
       "      <td>2</td>\n",
       "      <td>0</td>\n",
       "      <td>2</td>\n",
       "      <td>4032.841242</td>\n",
       "      <td>4044.830598</td>\n",
       "    </tr>\n",
       "    <tr>\n",
       "      <td>0</td>\n",
       "      <td>0</td>\n",
       "      <td>0</td>\n",
       "      <td>5096.620655</td>\n",
       "      <td>5100.617107</td>\n",
       "    </tr>\n",
       "    <tr>\n",
       "      <td>1</td>\n",
       "      <td>0</td>\n",
       "      <td>1</td>\n",
       "      <td>5096.620655</td>\n",
       "      <td>5100.617107</td>\n",
       "    </tr>\n",
       "  </tbody>\n",
       "</table>\n",
       "</div>"
      ],
      "text/plain": [
       "    p  q          aic          bic\n",
       "13  3  1    50.721073    70.703334\n",
       "14  3  2    56.131980    80.110693\n",
       "15  3  3    61.047322    89.022487\n",
       "10  2  2    61.914472    81.896733\n",
       "8   2  0    74.893293    86.882650\n",
       "12  3  0   219.384372   235.370180\n",
       "7   1  3   293.430175   313.412436\n",
       "6   1  2   384.680624   400.666432\n",
       "11  2  3   386.657915   410.636628\n",
       "5   1  1   637.481470   649.470826\n",
       "9   2  1   932.718192   948.704001\n",
       "4   1  0  1001.040607  1009.033511\n",
       "3   0  3  3518.691106  3534.676915\n",
       "2   0  2  4032.841242  4044.830598\n",
       "0   0  0  5096.620655  5100.617107\n",
       "1   0  1  5096.620655  5100.617107"
      ]
     },
     "execution_count": 17,
     "metadata": {},
     "output_type": "execute_result"
    },
    {
     "data": {
      "text/html": [
       "<div>\n",
       "<style scoped>\n",
       "    .dataframe tbody tr th:only-of-type {\n",
       "        vertical-align: middle;\n",
       "    }\n",
       "\n",
       "    .dataframe tbody tr th {\n",
       "        vertical-align: top;\n",
       "    }\n",
       "\n",
       "    .dataframe thead th {\n",
       "        text-align: right;\n",
       "    }\n",
       "</style>\n",
       "<table border=\"1\" class=\"dataframe\">\n",
       "  <thead>\n",
       "    <tr style=\"text-align: right;\">\n",
       "      <th></th>\n",
       "      <th>p</th>\n",
       "      <th>q</th>\n",
       "      <th>aic</th>\n",
       "      <th>bic</th>\n",
       "    </tr>\n",
       "  </thead>\n",
       "  <tbody>\n",
       "    <tr>\n",
       "      <td>13</td>\n",
       "      <td>3</td>\n",
       "      <td>1</td>\n",
       "      <td>50.721073</td>\n",
       "      <td>70.703334</td>\n",
       "    </tr>\n",
       "    <tr>\n",
       "      <td>14</td>\n",
       "      <td>3</td>\n",
       "      <td>2</td>\n",
       "      <td>56.131980</td>\n",
       "      <td>80.110693</td>\n",
       "    </tr>\n",
       "    <tr>\n",
       "      <td>10</td>\n",
       "      <td>2</td>\n",
       "      <td>2</td>\n",
       "      <td>61.914472</td>\n",
       "      <td>81.896733</td>\n",
       "    </tr>\n",
       "    <tr>\n",
       "      <td>8</td>\n",
       "      <td>2</td>\n",
       "      <td>0</td>\n",
       "      <td>74.893293</td>\n",
       "      <td>86.882650</td>\n",
       "    </tr>\n",
       "    <tr>\n",
       "      <td>15</td>\n",
       "      <td>3</td>\n",
       "      <td>3</td>\n",
       "      <td>61.047322</td>\n",
       "      <td>89.022487</td>\n",
       "    </tr>\n",
       "    <tr>\n",
       "      <td>12</td>\n",
       "      <td>3</td>\n",
       "      <td>0</td>\n",
       "      <td>219.384372</td>\n",
       "      <td>235.370180</td>\n",
       "    </tr>\n",
       "    <tr>\n",
       "      <td>7</td>\n",
       "      <td>1</td>\n",
       "      <td>3</td>\n",
       "      <td>293.430175</td>\n",
       "      <td>313.412436</td>\n",
       "    </tr>\n",
       "    <tr>\n",
       "      <td>6</td>\n",
       "      <td>1</td>\n",
       "      <td>2</td>\n",
       "      <td>384.680624</td>\n",
       "      <td>400.666432</td>\n",
       "    </tr>\n",
       "    <tr>\n",
       "      <td>11</td>\n",
       "      <td>2</td>\n",
       "      <td>3</td>\n",
       "      <td>386.657915</td>\n",
       "      <td>410.636628</td>\n",
       "    </tr>\n",
       "    <tr>\n",
       "      <td>5</td>\n",
       "      <td>1</td>\n",
       "      <td>1</td>\n",
       "      <td>637.481470</td>\n",
       "      <td>649.470826</td>\n",
       "    </tr>\n",
       "    <tr>\n",
       "      <td>9</td>\n",
       "      <td>2</td>\n",
       "      <td>1</td>\n",
       "      <td>932.718192</td>\n",
       "      <td>948.704001</td>\n",
       "    </tr>\n",
       "    <tr>\n",
       "      <td>4</td>\n",
       "      <td>1</td>\n",
       "      <td>0</td>\n",
       "      <td>1001.040607</td>\n",
       "      <td>1009.033511</td>\n",
       "    </tr>\n",
       "    <tr>\n",
       "      <td>3</td>\n",
       "      <td>0</td>\n",
       "      <td>3</td>\n",
       "      <td>3518.691106</td>\n",
       "      <td>3534.676915</td>\n",
       "    </tr>\n",
       "    <tr>\n",
       "      <td>2</td>\n",
       "      <td>0</td>\n",
       "      <td>2</td>\n",
       "      <td>4032.841242</td>\n",
       "      <td>4044.830598</td>\n",
       "    </tr>\n",
       "    <tr>\n",
       "      <td>0</td>\n",
       "      <td>0</td>\n",
       "      <td>0</td>\n",
       "      <td>5096.620655</td>\n",
       "      <td>5100.617107</td>\n",
       "    </tr>\n",
       "    <tr>\n",
       "      <td>1</td>\n",
       "      <td>0</td>\n",
       "      <td>1</td>\n",
       "      <td>5096.620655</td>\n",
       "      <td>5100.617107</td>\n",
       "    </tr>\n",
       "  </tbody>\n",
       "</table>\n",
       "</div>"
      ],
      "text/plain": [
       "    p  q          aic          bic\n",
       "13  3  1    50.721073    70.703334\n",
       "14  3  2    56.131980    80.110693\n",
       "10  2  2    61.914472    81.896733\n",
       "8   2  0    74.893293    86.882650\n",
       "15  3  3    61.047322    89.022487\n",
       "12  3  0   219.384372   235.370180\n",
       "7   1  3   293.430175   313.412436\n",
       "6   1  2   384.680624   400.666432\n",
       "11  2  3   386.657915   410.636628\n",
       "5   1  1   637.481470   649.470826\n",
       "9   2  1   932.718192   948.704001\n",
       "4   1  0  1001.040607  1009.033511\n",
       "3   0  3  3518.691106  3534.676915\n",
       "2   0  2  4032.841242  4044.830598\n",
       "0   0  0  5096.620655  5100.617107\n",
       "1   0  1  5096.620655  5100.617107"
      ]
     },
     "execution_count": 17,
     "metadata": {},
     "output_type": "execute_result"
    }
   ],
   "source": [
    "# Sort by AIC\n",
    "order_df.sort_values('aic')\n",
    "\n",
    "# Sort by BIC\n",
    "order_df.sort_values('bic')"
   ]
  },
  {
   "cell_type": "code",
   "execution_count": 30,
   "metadata": {},
   "outputs": [
    {
     "data": {
      "text/html": [
       "<table class=\"simpletable\">\n",
       "<caption>SARIMAX Results</caption>\n",
       "<tr>\n",
       "  <th>Dep. Variable:</th>       <td>CSUSHPISA</td>    <th>  No. Observations:  </th>    <td>402</td>  \n",
       "</tr>\n",
       "<tr>\n",
       "  <th>Model:</th>           <td>SARIMAX(1, 0, 3)</td> <th>  Log Likelihood     </th> <td>-141.715</td>\n",
       "</tr>\n",
       "<tr>\n",
       "  <th>Date:</th>            <td>Sat, 26 Sep 2020</td> <th>  AIC                </th>  <td>293.430</td>\n",
       "</tr>\n",
       "<tr>\n",
       "  <th>Time:</th>                <td>23:42:41</td>     <th>  BIC                </th>  <td>313.412</td>\n",
       "</tr>\n",
       "<tr>\n",
       "  <th>Sample:</th>             <td>01-01-1987</td>    <th>  HQIC               </th>  <td>301.342</td>\n",
       "</tr>\n",
       "<tr>\n",
       "  <th></th>                   <td>- 06-01-2020</td>   <th>                     </th>     <td> </td>   \n",
       "</tr>\n",
       "<tr>\n",
       "  <th>Covariance Type:</th>        <td>opg</td>       <th>                     </th>     <td> </td>   \n",
       "</tr>\n",
       "</table>\n",
       "<table class=\"simpletable\">\n",
       "<tr>\n",
       "     <td></td>       <th>coef</th>     <th>std err</th>      <th>z</th>      <th>P>|z|</th>  <th>[0.025</th>    <th>0.975]</th>  \n",
       "</tr>\n",
       "<tr>\n",
       "  <th>ar.L1</th>  <td>    1.0000</td> <td> 6.47e-05</td> <td> 1.54e+04</td> <td> 0.000</td> <td>    1.000</td> <td>    1.000</td>\n",
       "</tr>\n",
       "<tr>\n",
       "  <th>ma.L1</th>  <td>    1.0842</td> <td>    0.032</td> <td>   34.298</td> <td> 0.000</td> <td>    1.022</td> <td>    1.146</td>\n",
       "</tr>\n",
       "<tr>\n",
       "  <th>ma.L2</th>  <td>    0.9718</td> <td>    0.035</td> <td>   27.988</td> <td> 0.000</td> <td>    0.904</td> <td>    1.040</td>\n",
       "</tr>\n",
       "<tr>\n",
       "  <th>ma.L3</th>  <td>    0.4773</td> <td>    0.034</td> <td>   14.196</td> <td> 0.000</td> <td>    0.411</td> <td>    0.543</td>\n",
       "</tr>\n",
       "<tr>\n",
       "  <th>sigma2</th> <td>    0.1144</td> <td>    0.005</td> <td>   22.725</td> <td> 0.000</td> <td>    0.105</td> <td>    0.124</td>\n",
       "</tr>\n",
       "</table>\n",
       "<table class=\"simpletable\">\n",
       "<tr>\n",
       "  <th>Ljung-Box (Q):</th>          <td>718.60</td> <th>  Jarque-Bera (JB):  </th> <td>492.03</td>\n",
       "</tr>\n",
       "<tr>\n",
       "  <th>Prob(Q):</th>                 <td>0.00</td>  <th>  Prob(JB):          </th>  <td>0.00</td> \n",
       "</tr>\n",
       "<tr>\n",
       "  <th>Heteroskedasticity (H):</th>  <td>18.73</td> <th>  Skew:              </th>  <td>0.07</td> \n",
       "</tr>\n",
       "<tr>\n",
       "  <th>Prob(H) (two-sided):</th>     <td>0.00</td>  <th>  Kurtosis:          </th>  <td>8.42</td> \n",
       "</tr>\n",
       "</table><br/><br/>Warnings:<br/>[1] Covariance matrix calculated using the outer product of gradients (complex-step)."
      ],
      "text/plain": [
       "<class 'statsmodels.iolib.summary.Summary'>\n",
       "\"\"\"\n",
       "                               SARIMAX Results                                \n",
       "==============================================================================\n",
       "Dep. Variable:              CSUSHPISA   No. Observations:                  402\n",
       "Model:               SARIMAX(1, 0, 3)   Log Likelihood                -141.715\n",
       "Date:                Sat, 26 Sep 2020   AIC                            293.430\n",
       "Time:                        23:42:41   BIC                            313.412\n",
       "Sample:                    01-01-1987   HQIC                           301.342\n",
       "                         - 06-01-2020                                         \n",
       "Covariance Type:                  opg                                         \n",
       "==============================================================================\n",
       "                 coef    std err          z      P>|z|      [0.025      0.975]\n",
       "------------------------------------------------------------------------------\n",
       "ar.L1          1.0000   6.47e-05   1.54e+04      0.000       1.000       1.000\n",
       "ma.L1          1.0842      0.032     34.298      0.000       1.022       1.146\n",
       "ma.L2          0.9718      0.035     27.988      0.000       0.904       1.040\n",
       "ma.L3          0.4773      0.034     14.196      0.000       0.411       0.543\n",
       "sigma2         0.1144      0.005     22.725      0.000       0.105       0.124\n",
       "===================================================================================\n",
       "Ljung-Box (Q):                      718.60   Jarque-Bera (JB):               492.03\n",
       "Prob(Q):                              0.00   Prob(JB):                         0.00\n",
       "Heteroskedasticity (H):              18.73   Skew:                             0.07\n",
       "Prob(H) (two-sided):                  0.00   Kurtosis:                         8.42\n",
       "===================================================================================\n",
       "\n",
       "Warnings:\n",
       "[1] Covariance matrix calculated using the outer product of gradients (complex-step).\n",
       "\"\"\""
      ]
     },
     "execution_count": 30,
     "metadata": {},
     "output_type": "execute_result"
    }
   ],
   "source": [
    "# create ARMA model\n",
    "from statsmodels.tsa.arima_model import ARMA\n",
    "# Instantiate model object\n",
    "model = SARIMAX(home_price, order=(1,0,3))\n",
    "# Fit model\n",
    "results = model.fit()\n",
    "results.summary()"
   ]
  },
  {
   "cell_type": "code",
   "execution_count": 31,
   "metadata": {},
   "outputs": [
    {
     "data": {
      "text/plain": [
       "2020-07-01    218.319702\n",
       "2020-08-01    218.709516\n",
       "2020-09-01    219.013723\n",
       "2020-10-01    219.007686\n",
       "2020-11-01    219.001648\n",
       "                 ...    \n",
       "2022-02-01    218.911108\n",
       "2022-03-01    218.905074\n",
       "2022-04-01    218.899039\n",
       "2022-05-01    218.893005\n",
       "2022-06-01    218.886971\n",
       "Freq: MS, Length: 24, dtype: float64"
      ]
     },
     "execution_count": 31,
     "metadata": {},
     "output_type": "execute_result"
    }
   ],
   "source": [
    "# Make out of sample forecast\n",
    "forecast = results.get_forecast(steps=24)\n",
    "\n",
    "#Determine mean forecast\n",
    "mean_forecast = forecast.predicted_mean\n",
    "\n",
    "mean_forecast"
   ]
  },
  {
   "cell_type": "markdown",
   "metadata": {},
   "source": [
    "#### Implement the Augmented Dickey-Fuller Test for checking the existence of a unit root in Case-Shiller Index series."
   ]
  },
  {
   "cell_type": "code",
   "execution_count": 32,
   "metadata": {},
   "outputs": [
    {
     "data": {
      "text/plain": [
       "(-0.43881777681924117,\n",
       " 0.9034130797196441,\n",
       " 14,\n",
       " 387,\n",
       " {'1%': -3.447360865754795,\n",
       "  '5%': -2.8690374364690445,\n",
       "  '10%': -2.5707639493486636},\n",
       " 11.414184490645198)"
      ]
     },
     "execution_count": 32,
     "metadata": {},
     "output_type": "execute_result"
    }
   ],
   "source": [
    "from statsmodels.tsa.stattools import adfuller\n",
    "adf = adfuller(home_price['CSUSHPISA'])\n",
    "adf"
   ]
  },
  {
   "cell_type": "code",
   "execution_count": 33,
   "metadata": {},
   "outputs": [
    {
     "data": {
      "text/plain": [
       "\"The t-value -0.43881777681924117 is greater than the critical values dict_values([-3.447360865754795, -2.8690374364690445, -2.5707639493486636]) at significance levels  dict_keys(['1%', '5%', '10%']) , so we cannot reject the null hypothesis of unit root\""
      ]
     },
     "execution_count": 33,
     "metadata": {},
     "output_type": "execute_result"
    }
   ],
   "source": [
    "f'The t-value {adf[0]} is greater than the critical values {adf[4].values()} at significance levels  {adf[4].keys()} , so we cannot reject the null hypothesis of unit root'"
   ]
  },
  {
   "cell_type": "markdown",
   "metadata": {},
   "source": [
    "#### Implement an ARIMA(p,d,q) model. Determine p, d, q using Information Criterion or Box-Jenkins methodology. Comment the results."
   ]
  },
  {
   "cell_type": "code",
   "execution_count": 44,
   "metadata": {},
   "outputs": [
    {
     "data": {
      "text/plain": [
       "observation_date\n",
       "1987-11-01    4.134\n",
       "1987-12-01    4.075\n",
       "1988-01-01    4.113\n",
       "1988-02-01    4.126\n",
       "1988-03-01    4.074\n",
       "              ...  \n",
       "2020-02-01    7.562\n",
       "2020-03-01    8.077\n",
       "2020-04-01    8.532\n",
       "2020-05-01    8.315\n",
       "2020-06-01    7.889\n",
       "Freq: MS, Name: CSUSHPISA, Length: 392, dtype: float64"
      ]
     },
     "execution_count": 44,
     "metadata": {},
     "output_type": "execute_result"
    }
   ],
   "source": [
    "y_stationary = home_price['CSUSHPISA'].diff(10).dropna()\n",
    "y_stationary"
   ]
  },
  {
   "cell_type": "code",
   "execution_count": 45,
   "metadata": {},
   "outputs": [
    {
     "data": {
      "text/plain": [
       "(-2.774590105235581,\n",
       " 0.061996060434379774,\n",
       " 16,\n",
       " 375,\n",
       " {'1%': -3.447909006729481,\n",
       "  '5%': -2.8692783343881483,\n",
       "  '10%': -2.5708923751111112},\n",
       " 150.92227975099297)"
      ]
     },
     "execution_count": 45,
     "metadata": {},
     "output_type": "execute_result"
    }
   ],
   "source": [
    "adfuller(y_stationary)"
   ]
  },
  {
   "cell_type": "code",
   "execution_count": 43,
   "metadata": {},
   "outputs": [
    {
     "data": {
      "image/png": "[encoded data removed]",
      "text/plain": [
       "<Figure size 432x288 with 1 Axes>"
      ]
     },
     "execution_count": 43,
     "metadata": {},
     "output_type": "execute_result"
    },
    {
     "name": "stderr",
     "output_type": "stream",
     "text": [
      "C:\\Users\\tlfmc\\Anaconda3\\envs\\deeplearning.ai\\lib\\site-packages\\statsmodels\\regression\\linear_model.py:1406: RuntimeWarning: invalid value encountered in sqrt\n",
      "  return rho, np.sqrt(sigmasq)\n"
     ]
    },
    {
     "data": {
      "image/png": "[encoded data removed]",
      "text/plain": [
       "<Figure size 432x288 with 1 Axes>"
      ]
     },
     "execution_count": 43,
     "metadata": {},
     "output_type": "execute_result"
    },
    {
     "data": {
      "image/png": "[encoded data removed]",
      "text/plain": [
       "<Figure size 432x288 with 1 Axes>"
      ]
     },
     "metadata": {
      "needs_background": "light"
     },
     "output_type": "display_data"
    },
    {
     "data": {
      "image/png": "[encoded data removed]",
      "text/plain": [
       "<Figure size 432x288 with 1 Axes>"
      ]
     },
     "metadata": {
      "needs_background": "light"
     },
     "output_type": "display_data"
    }
   ],
   "source": [
    "plot_acf(y_stationary)\n",
    "plot_pacf(y_stationary)"
   ]
  },
  {
   "cell_type": "code",
   "execution_count": null,
   "metadata": {},
   "outputs": [],
   "source": [
    "order_aic_bic =[]\n",
    "# Loop over AR, Integration and MA order\n",
    "for p,d,q in product(range(6), repeat=3):\n",
    "    \n",
    "    # Fit model\n",
    "    model = SARIMAX(home_price, order=(p,d,q))\n",
    "    try:\n",
    "        results = model.fit()\n",
    "    except:\n",
    "        pass\n",
    "    # print the model order and the AIC/BIC values\n",
    "    #print(p, q, results.aic, results.bic)\n",
    "    # Add order and scores to list\n",
    "    order_aic_bic.append((p, d, q, results.aic, results.bic))\n",
    "# Make DataFrame of model order and AIC/BIC scores\n",
    "order_df = pd.DataFrame(order_aic_bic, columns=['p','d','q', 'aic', 'bic'])"
   ]
  },
  {
   "cell_type": "code",
   "execution_count": null,
   "metadata": {},
   "outputs": [],
   "source": [
    "# Sort by AIC\n",
    "order_df.sort_values('aic')\n",
    "\n",
    "# Sort by BIC\n",
    "order_df.sort_values('bic')"
   ]
  },
  {
   "cell_type": "code",
   "execution_count": null,
   "metadata": {},
   "outputs": [],
   "source": [
    "order_df[order_df.d ==5].sort_values('aic')"
   ]
  },
  {
   "cell_type": "code",
   "execution_count": 34,
   "metadata": {},
   "outputs": [
    {
     "data": {
      "text/html": [
       "<table class=\"simpletable\">\n",
       "<caption>SARIMAX Results</caption>\n",
       "<tr>\n",
       "  <th>Dep. Variable:</th>       <td>CSUSHPISA</td>    <th>  No. Observations:  </th>   <td>402</td>  \n",
       "</tr>\n",
       "<tr>\n",
       "  <th>Model:</th>           <td>SARIMAX(1, 1, 3)</td> <th>  Log Likelihood     </th> <td>-16.464</td>\n",
       "</tr>\n",
       "<tr>\n",
       "  <th>Date:</th>            <td>Sat, 26 Sep 2020</td> <th>  AIC                </th> <td>42.928</td> \n",
       "</tr>\n",
       "<tr>\n",
       "  <th>Time:</th>                <td>23:44:30</td>     <th>  BIC                </th> <td>62.898</td> \n",
       "</tr>\n",
       "<tr>\n",
       "  <th>Sample:</th>             <td>01-01-1987</td>    <th>  HQIC               </th> <td>50.835</td> \n",
       "</tr>\n",
       "<tr>\n",
       "  <th></th>                   <td>- 06-01-2020</td>   <th>                     </th>    <td> </td>   \n",
       "</tr>\n",
       "<tr>\n",
       "  <th>Covariance Type:</th>        <td>opg</td>       <th>                     </th>    <td> </td>   \n",
       "</tr>\n",
       "</table>\n",
       "<table class=\"simpletable\">\n",
       "<tr>\n",
       "     <td></td>       <th>coef</th>     <th>std err</th>      <th>z</th>      <th>P>|z|</th>  <th>[0.025</th>    <th>0.975]</th>  \n",
       "</tr>\n",
       "<tr>\n",
       "  <th>ar.L1</th>  <td>    0.9669</td> <td>    0.012</td> <td>   80.415</td> <td> 0.000</td> <td>    0.943</td> <td>    0.990</td>\n",
       "</tr>\n",
       "<tr>\n",
       "  <th>ma.L1</th>  <td>   -0.0767</td> <td>    0.030</td> <td>   -2.588</td> <td> 0.010</td> <td>   -0.135</td> <td>   -0.019</td>\n",
       "</tr>\n",
       "<tr>\n",
       "  <th>ma.L2</th>  <td>   -0.0029</td> <td>    0.032</td> <td>   -0.090</td> <td> 0.929</td> <td>   -0.066</td> <td>    0.060</td>\n",
       "</tr>\n",
       "<tr>\n",
       "  <th>ma.L3</th>  <td>   -0.1179</td> <td>    0.037</td> <td>   -3.196</td> <td> 0.001</td> <td>   -0.190</td> <td>   -0.046</td>\n",
       "</tr>\n",
       "<tr>\n",
       "  <th>sigma2</th> <td>    0.0632</td> <td>    0.002</td> <td>   31.731</td> <td> 0.000</td> <td>    0.059</td> <td>    0.067</td>\n",
       "</tr>\n",
       "</table>\n",
       "<table class=\"simpletable\">\n",
       "<tr>\n",
       "  <th>Ljung-Box (Q):</th>          <td>154.18</td> <th>  Jarque-Bera (JB):  </th> <td>2562.06</td>\n",
       "</tr>\n",
       "<tr>\n",
       "  <th>Prob(Q):</th>                 <td>0.00</td>  <th>  Prob(JB):          </th>  <td>0.00</td>  \n",
       "</tr>\n",
       "<tr>\n",
       "  <th>Heteroskedasticity (H):</th>  <td>29.08</td> <th>  Skew:              </th>  <td>0.94</td>  \n",
       "</tr>\n",
       "<tr>\n",
       "  <th>Prob(H) (two-sided):</th>     <td>0.00</td>  <th>  Kurtosis:          </th>  <td>15.24</td> \n",
       "</tr>\n",
       "</table><br/><br/>Warnings:<br/>[1] Covariance matrix calculated using the outer product of gradients (complex-step)."
      ],
      "text/plain": [
       "<class 'statsmodels.iolib.summary.Summary'>\n",
       "\"\"\"\n",
       "                               SARIMAX Results                                \n",
       "==============================================================================\n",
       "Dep. Variable:              CSUSHPISA   No. Observations:                  402\n",
       "Model:               SARIMAX(1, 1, 3)   Log Likelihood                 -16.464\n",
       "Date:                Sat, 26 Sep 2020   AIC                             42.928\n",
       "Time:                        23:44:30   BIC                             62.898\n",
       "Sample:                    01-01-1987   HQIC                            50.835\n",
       "                         - 06-01-2020                                         \n",
       "Covariance Type:                  opg                                         \n",
       "==============================================================================\n",
       "                 coef    std err          z      P>|z|      [0.025      0.975]\n",
       "------------------------------------------------------------------------------\n",
       "ar.L1          0.9669      0.012     80.415      0.000       0.943       0.990\n",
       "ma.L1         -0.0767      0.030     -2.588      0.010      -0.135      -0.019\n",
       "ma.L2         -0.0029      0.032     -0.090      0.929      -0.066       0.060\n",
       "ma.L3         -0.1179      0.037     -3.196      0.001      -0.190      -0.046\n",
       "sigma2         0.0632      0.002     31.731      0.000       0.059       0.067\n",
       "===================================================================================\n",
       "Ljung-Box (Q):                      154.18   Jarque-Bera (JB):              2562.06\n",
       "Prob(Q):                              0.00   Prob(JB):                         0.00\n",
       "Heteroskedasticity (H):              29.08   Skew:                             0.94\n",
       "Prob(H) (two-sided):                  0.00   Kurtosis:                        15.24\n",
       "===================================================================================\n",
       "\n",
       "Warnings:\n",
       "[1] Covariance matrix calculated using the outer product of gradients (complex-step).\n",
       "\"\"\""
      ]
     },
     "execution_count": 34,
     "metadata": {},
     "output_type": "execute_result"
    }
   ],
   "source": [
    "model = SARIMAX(home_price, order=(1,1,3))\n",
    "results = model.fit()\n",
    "results.summary()\n",
    "forecast = results.get_prediction(start=-24)"
   ]
  },
  {
   "cell_type": "code",
   "execution_count": 35,
   "metadata": {},
   "outputs": [
    {
     "data": {
      "image/png": "[encoded data removed]",
      "text/plain": [
       "<Figure size 432x288 with 4 Axes>"
      ]
     },
     "execution_count": 35,
     "metadata": {},
     "output_type": "execute_result"
    },
    {
     "data": {
      "image/png": "[encoded data removed]",
      "text/plain": [
       "<Figure size 432x288 with 4 Axes>"
      ]
     },
     "metadata": {
      "needs_background": "light"
     },
     "output_type": "display_data"
    }
   ],
   "source": [
    "# Create the 4 diagostics plots\n",
    "results.plot_diagnostics()\n",
    "plt.tight_layout()\n",
    "plt.show()"
   ]
  }
 ],
 "metadata": {
  "kernelspec": {
   "display_name": "Python 3",
   "language": "python",
   "name": "python3"
  },
  "language_info": {
   "codemirror_mode": {
    "name": "ipython",
    "version": 3
   },
   "file_extension": ".py",
   "mimetype": "text/x-python",
   "name": "python",
   "nbconvert_exporter": "python",
   "pygments_lexer": "ipython3",
   "version": "3.7.3"
  }
 },
 "nbformat": 4,
 "nbformat_minor": 4
}
