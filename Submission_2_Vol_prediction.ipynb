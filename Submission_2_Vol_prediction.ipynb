{
 "cells": [
  {
   "cell_type": "code",
   "execution_count": 1,
   "metadata": {},
   "outputs": [],
   "source": [
    "import pandas as pd\n",
    "import numpy as np\n",
    "import yfinance as yfin\n",
    "import pandas_datareader as pdr\n",
    "from random import gauss\n",
    "import matplotlib.pyplot as plt\n",
    "from arch import arch_model\n",
    "from statsmodels.graphics.tsaplots import plot_acf, plot_pacf\n",
    "import math\n",
    "import seaborn as sns\n",
    "from statsmodels.stats.diagnostic import acorr_ljungbox\n",
    "from pandas.plotting import register_matplotlib_converters\n",
    "register_matplotlib_converters()\n",
    "sns.set()"
   ]
  },
  {
   "cell_type": "code",
   "execution_count": 2,
   "metadata": {},
   "outputs": [],
   "source": [
    "start_date = pd.to_datetime('2010-01-01')\n",
    "end_date = pd.to_datetime('2020-10-11')"
   ]
  },
  {
   "cell_type": "code",
   "execution_count": 3,
   "metadata": {},
   "outputs": [],
   "source": [
    "aapl= pdr.data.get_data_yahoo('AAPL',start_date,end_date)"
   ]
  },
  {
   "cell_type": "code",
   "execution_count": 4,
   "metadata": {},
   "outputs": [
    {
     "data": {
      "text/plain": [
       "pandas.core.frame.DataFrame"
      ]
     },
     "execution_count": 4,
     "metadata": {},
     "output_type": "execute_result"
    }
   ],
   "source": [
    "type(aapl)"
   ]
  },
  {
   "cell_type": "code",
   "execution_count": 5,
   "metadata": {},
   "outputs": [
    {
     "data": {
      "text/html": [
       "<div>\n",
       "<style scoped>\n",
       "    .dataframe tbody tr th:only-of-type {\n",
       "        vertical-align: middle;\n",
       "    }\n",
       "\n",
       "    .dataframe tbody tr th {\n",
       "        vertical-align: top;\n",
       "    }\n",
       "\n",
       "    .dataframe thead th {\n",
       "        text-align: right;\n",
       "    }\n",
       "</style>\n",
       "<table border=\"1\" class=\"dataframe\">\n",
       "  <thead>\n",
       "    <tr style=\"text-align: right;\">\n",
       "      <th></th>\n",
       "      <th>High</th>\n",
       "      <th>Low</th>\n",
       "      <th>Open</th>\n",
       "      <th>Close</th>\n",
       "      <th>Volume</th>\n",
       "      <th>Adj Close</th>\n",
       "    </tr>\n",
       "    <tr>\n",
       "      <th>Date</th>\n",
       "      <th></th>\n",
       "      <th></th>\n",
       "      <th></th>\n",
       "      <th></th>\n",
       "      <th></th>\n",
       "      <th></th>\n",
       "    </tr>\n",
       "  </thead>\n",
       "  <tbody>\n",
       "    <tr>\n",
       "      <th>2009-12-31</th>\n",
       "      <td>7.619643</td>\n",
       "      <td>7.520000</td>\n",
       "      <td>7.611786</td>\n",
       "      <td>7.526072</td>\n",
       "      <td>352410800.0</td>\n",
       "      <td>6.503574</td>\n",
       "    </tr>\n",
       "    <tr>\n",
       "      <th>2010-01-04</th>\n",
       "      <td>7.660714</td>\n",
       "      <td>7.585000</td>\n",
       "      <td>7.622500</td>\n",
       "      <td>7.643214</td>\n",
       "      <td>493729600.0</td>\n",
       "      <td>6.604801</td>\n",
       "    </tr>\n",
       "    <tr>\n",
       "      <th>2010-01-05</th>\n",
       "      <td>7.699643</td>\n",
       "      <td>7.616071</td>\n",
       "      <td>7.664286</td>\n",
       "      <td>7.656428</td>\n",
       "      <td>601904800.0</td>\n",
       "      <td>6.616219</td>\n",
       "    </tr>\n",
       "    <tr>\n",
       "      <th>2010-01-06</th>\n",
       "      <td>7.686786</td>\n",
       "      <td>7.526786</td>\n",
       "      <td>7.656428</td>\n",
       "      <td>7.534643</td>\n",
       "      <td>552160000.0</td>\n",
       "      <td>6.510980</td>\n",
       "    </tr>\n",
       "    <tr>\n",
       "      <th>2010-01-07</th>\n",
       "      <td>7.571429</td>\n",
       "      <td>7.466072</td>\n",
       "      <td>7.562500</td>\n",
       "      <td>7.520714</td>\n",
       "      <td>477131200.0</td>\n",
       "      <td>6.498945</td>\n",
       "    </tr>\n",
       "  </tbody>\n",
       "</table>\n",
       "</div>"
      ],
      "text/plain": [
       "                High       Low      Open     Close       Volume  Adj Close\n",
       "Date                                                                      \n",
       "2009-12-31  7.619643  7.520000  7.611786  7.526072  352410800.0   6.503574\n",
       "2010-01-04  7.660714  7.585000  7.622500  7.643214  493729600.0   6.604801\n",
       "2010-01-05  7.699643  7.616071  7.664286  7.656428  601904800.0   6.616219\n",
       "2010-01-06  7.686786  7.526786  7.656428  7.534643  552160000.0   6.510980\n",
       "2010-01-07  7.571429  7.466072  7.562500  7.520714  477131200.0   6.498945"
      ]
     },
     "execution_count": 5,
     "metadata": {},
     "output_type": "execute_result"
    }
   ],
   "source": [
    "aapl.head()"
   ]
  },
  {
   "cell_type": "code",
   "execution_count": 6,
   "metadata": {},
   "outputs": [],
   "source": [
    "aapl['return']= (aapl['Adj Close'].shift(1)/aapl['Adj Close']).apply(math.log)"
   ]
  },
  {
   "cell_type": "code",
   "execution_count": 7,
   "metadata": {},
   "outputs": [
    {
     "data": {
      "text/html": [
       "<div>\n",
       "<style scoped>\n",
       "    .dataframe tbody tr th:only-of-type {\n",
       "        vertical-align: middle;\n",
       "    }\n",
       "\n",
       "    .dataframe tbody tr th {\n",
       "        vertical-align: top;\n",
       "    }\n",
       "\n",
       "    .dataframe thead th {\n",
       "        text-align: right;\n",
       "    }\n",
       "</style>\n",
       "<table border=\"1\" class=\"dataframe\">\n",
       "  <thead>\n",
       "    <tr style=\"text-align: right;\">\n",
       "      <th></th>\n",
       "      <th>High</th>\n",
       "      <th>Low</th>\n",
       "      <th>Open</th>\n",
       "      <th>Close</th>\n",
       "      <th>Volume</th>\n",
       "      <th>Adj Close</th>\n",
       "      <th>return</th>\n",
       "    </tr>\n",
       "    <tr>\n",
       "      <th>Date</th>\n",
       "      <th></th>\n",
       "      <th></th>\n",
       "      <th></th>\n",
       "      <th></th>\n",
       "      <th></th>\n",
       "      <th></th>\n",
       "      <th></th>\n",
       "    </tr>\n",
       "  </thead>\n",
       "  <tbody>\n",
       "    <tr>\n",
       "      <th>2009-12-31</th>\n",
       "      <td>7.619643</td>\n",
       "      <td>7.520000</td>\n",
       "      <td>7.611786</td>\n",
       "      <td>7.526072</td>\n",
       "      <td>352410800.0</td>\n",
       "      <td>6.503574</td>\n",
       "      <td>NaN</td>\n",
       "    </tr>\n",
       "    <tr>\n",
       "      <th>2010-01-04</th>\n",
       "      <td>7.660714</td>\n",
       "      <td>7.585000</td>\n",
       "      <td>7.622500</td>\n",
       "      <td>7.643214</td>\n",
       "      <td>493729600.0</td>\n",
       "      <td>6.604801</td>\n",
       "      <td>-0.015445</td>\n",
       "    </tr>\n",
       "    <tr>\n",
       "      <th>2010-01-05</th>\n",
       "      <td>7.699643</td>\n",
       "      <td>7.616071</td>\n",
       "      <td>7.664286</td>\n",
       "      <td>7.656428</td>\n",
       "      <td>601904800.0</td>\n",
       "      <td>6.616219</td>\n",
       "      <td>-0.001727</td>\n",
       "    </tr>\n",
       "    <tr>\n",
       "      <th>2010-01-06</th>\n",
       "      <td>7.686786</td>\n",
       "      <td>7.526786</td>\n",
       "      <td>7.656428</td>\n",
       "      <td>7.534643</td>\n",
       "      <td>552160000.0</td>\n",
       "      <td>6.510980</td>\n",
       "      <td>0.016034</td>\n",
       "    </tr>\n",
       "    <tr>\n",
       "      <th>2010-01-07</th>\n",
       "      <td>7.571429</td>\n",
       "      <td>7.466072</td>\n",
       "      <td>7.562500</td>\n",
       "      <td>7.520714</td>\n",
       "      <td>477131200.0</td>\n",
       "      <td>6.498945</td>\n",
       "      <td>0.001850</td>\n",
       "    </tr>\n",
       "  </tbody>\n",
       "</table>\n",
       "</div>"
      ],
      "text/plain": [
       "                High       Low      Open     Close       Volume  Adj Close  \\\n",
       "Date                                                                         \n",
       "2009-12-31  7.619643  7.520000  7.611786  7.526072  352410800.0   6.503574   \n",
       "2010-01-04  7.660714  7.585000  7.622500  7.643214  493729600.0   6.604801   \n",
       "2010-01-05  7.699643  7.616071  7.664286  7.656428  601904800.0   6.616219   \n",
       "2010-01-06  7.686786  7.526786  7.656428  7.534643  552160000.0   6.510980   \n",
       "2010-01-07  7.571429  7.466072  7.562500  7.520714  477131200.0   6.498945   \n",
       "\n",
       "              return  \n",
       "Date                  \n",
       "2009-12-31       NaN  \n",
       "2010-01-04 -0.015445  \n",
       "2010-01-05 -0.001727  \n",
       "2010-01-06  0.016034  \n",
       "2010-01-07  0.001850  "
      ]
     },
     "execution_count": 7,
     "metadata": {},
     "output_type": "execute_result"
    }
   ],
   "source": [
    "aapl.head()"
   ]
  },
  {
   "cell_type": "code",
   "execution_count": 8,
   "metadata": {},
   "outputs": [
    {
     "data": {
      "image/png": "[encoded data removed]",
      "text/plain": [
       "<Figure size 720x288 with 1 Axes>"
      ]
     },
     "metadata": {
      "needs_background": "light"
     },
     "output_type": "display_data"
    }
   ],
   "source": [
    "plt.figure(figsize=(10,4))\n",
    "aapl['return'].plot()\n",
    "plt.title('Daily Log Returns', fontsize=20)\n",
    "plt.show()"
   ]
  },
  {
   "cell_type": "code",
   "execution_count": 9,
   "metadata": {},
   "outputs": [],
   "source": [
    "# Clearly, we see that the volatility bursts do exist and it is not constant over time"
   ]
  },
  {
   "cell_type": "code",
   "execution_count": 10,
   "metadata": {},
   "outputs": [],
   "source": [
    "#Now we look at the ACFs, PACFs"
   ]
  },
  {
   "cell_type": "code",
   "execution_count": 11,
   "metadata": {},
   "outputs": [
    {
     "data": {
      "image/png": "[encoded data removed]",
      "text/plain": [
       "<Figure size 432x288 with 1 Axes>"
      ]
     },
     "metadata": {
      "needs_background": "light"
     },
     "output_type": "display_data"
    },
    {
     "data": {
      "image/png": "[encoded data removed]",
      "text/plain": [
       "<Figure size 432x288 with 1 Axes>"
      ]
     },
     "metadata": {
      "needs_background": "light"
     },
     "output_type": "display_data"
    }
   ],
   "source": [
    "# fig, axs = plt.subplots(2)\n",
    "# fig.suptitle('ACF and PACF')\n",
    "plot_acf(aapl['return'].dropna())\n",
    "plot_pacf(aapl['return'].dropna())\n",
    "# axs = [fig1, fig2]\n",
    "plt.show()"
   ]
  },
  {
   "cell_type": "code",
   "execution_count": 12,
   "metadata": {},
   "outputs": [],
   "source": [
    "#At best it's an ARMA(1,1) model, although we will ignore that for now."
   ]
  },
  {
   "cell_type": "code",
   "execution_count": 13,
   "metadata": {},
   "outputs": [],
   "source": [
    "returns= aapl['return']"
   ]
  },
  {
   "cell_type": "code",
   "execution_count": 14,
   "metadata": {},
   "outputs": [
    {
     "data": {
      "image/png": "[encoded data removed]",
      "text/plain": [
       "<Figure size 432x288 with 1 Axes>"
      ]
     },
     "metadata": {
      "needs_background": "light"
     },
     "output_type": "display_data"
    },
    {
     "data": {
      "image/png": "[encoded data removed]",
      "text/plain": [
       "<Figure size 432x288 with 1 Axes>"
      ]
     },
     "metadata": {
      "needs_background": "light"
     },
     "output_type": "display_data"
    }
   ],
   "source": [
    "#Now we see the PACF/ ACF \n",
    "\n",
    "# fig, axs = plt.subplots(2)\n",
    "# fig.suptitle('ACF and PACF')\n",
    "plot_acf((returns**2).dropna())\n",
    "plot_pacf((returns**2).dropna())\n",
    "# axs = [fig1, fig2]\n",
    "plt.show()"
   ]
  },
  {
   "cell_type": "code",
   "execution_count": 15,
   "metadata": {},
   "outputs": [],
   "source": [
    "#Clear oscillatory pattern shows existence of variance persistence. Hencew we fit to a simple ARCH model to start with. "
   ]
  },
  {
   "cell_type": "code",
   "execution_count": 16,
   "metadata": {},
   "outputs": [],
   "source": [
    "model = arch_model(returns, p=1, q=1)"
   ]
  },
  {
   "cell_type": "code",
   "execution_count": 17,
   "metadata": {},
   "outputs": [
    {
     "data": {
      "text/plain": [
       "arch.univariate.mean.ConstantMean"
      ]
     },
     "execution_count": 17,
     "metadata": {},
     "output_type": "execute_result"
    }
   ],
   "source": [
    "type(model)"
   ]
  },
  {
   "cell_type": "code",
   "execution_count": 18,
   "metadata": {},
   "outputs": [
    {
     "name": "stdout",
     "output_type": "stream",
     "text": [
      "Iteration:      1,   Func. Count:      6,   Neg. LLF: nan\n",
      "Inequality constraints incompatible    (Exit mode 4)\n",
      "            Current function value: nan\n",
      "            Iterations: 1\n",
      "            Function evaluations: 6\n",
      "            Gradient evaluations: 1\n"
     ]
    },
    {
     "name": "stderr",
     "output_type": "stream",
     "text": [
      "C:\\ProgramData\\Anaconda3\\lib\\site-packages\\arch\\univariate\\volatility.py:454: RuntimeWarning: invalid value encountered in less\n",
      "  var_bounds[var_bounds[:, 0] < lower_bound, 0] = lower_bound\n",
      "C:\\ProgramData\\Anaconda3\\lib\\site-packages\\arch\\univariate\\volatility.py:455: RuntimeWarning: invalid value encountered in less\n",
      "  var_bounds[var_bounds[:, 1] < min_upper_bound, 1] = min_upper_bound\n",
      "C:\\ProgramData\\Anaconda3\\lib\\site-packages\\arch\\univariate\\volatility.py:456: RuntimeWarning: invalid value encountered in greater\n",
      "  var_bounds[var_bounds[:, 1] > upper_bound, 1] = upper_bound\n",
      "C:\\ProgramData\\Anaconda3\\lib\\site-packages\\arch\\univariate\\volatility.py:1015: RuntimeWarning: invalid value encountered in sign\n",
      "  sresids = np.sign(resids)\n",
      "C:\\ProgramData\\Anaconda3\\lib\\site-packages\\arch\\univariate\\base.py:709: ConvergenceWarning: The optimizer returned code 4. The message is:\n",
      "Inequality constraints incompatible\n",
      "See scipy.optimize.fmin_slsqp for code meaning.\n",
      "\n",
      "  ConvergenceWarning,\n",
      "C:\\ProgramData\\Anaconda3\\lib\\site-packages\\arch\\univariate\\volatility.py:1015: RuntimeWarning: invalid value encountered in sign\n",
      "  sresids = np.sign(resids)\n",
      "C:\\ProgramData\\Anaconda3\\lib\\site-packages\\arch\\univariate\\volatility.py:454: RuntimeWarning: invalid value encountered in less\n",
      "  var_bounds[var_bounds[:, 0] < lower_bound, 0] = lower_bound\n",
      "C:\\ProgramData\\Anaconda3\\lib\\site-packages\\arch\\univariate\\volatility.py:455: RuntimeWarning: invalid value encountered in less\n",
      "  var_bounds[var_bounds[:, 1] < min_upper_bound, 1] = min_upper_bound\n",
      "C:\\ProgramData\\Anaconda3\\lib\\site-packages\\arch\\univariate\\volatility.py:456: RuntimeWarning: invalid value encountered in greater\n",
      "  var_bounds[var_bounds[:, 1] > upper_bound, 1] = upper_bound\n",
      "C:\\ProgramData\\Anaconda3\\lib\\site-packages\\arch\\univariate\\base.py:129: RuntimeWarning: invalid value encountered in sign\n",
      "  scale = np.sign(scale) * np.ceil(np.abs(scale))\n",
      "C:\\ProgramData\\Anaconda3\\lib\\site-packages\\scipy\\stats\\_distn_infrastructure.py:903: RuntimeWarning: invalid value encountered in greater\n",
      "  return (a < x) & (x < b)\n",
      "C:\\ProgramData\\Anaconda3\\lib\\site-packages\\scipy\\stats\\_distn_infrastructure.py:903: RuntimeWarning: invalid value encountered in less\n",
      "  return (a < x) & (x < b)\n",
      "C:\\ProgramData\\Anaconda3\\lib\\site-packages\\scipy\\stats\\_distn_infrastructure.py:1912: RuntimeWarning: invalid value encountered in less_equal\n",
      "  cond2 = cond0 & (x <= _a)\n"
     ]
    },
    {
     "data": {
      "text/plain": [
       "                     Constant Mean - GARCH Model Results                      \n",
       "==============================================================================\n",
       "Dep. Variable:                 return   R-squared:                         nan\n",
       "Mean Model:             Constant Mean   Adj. R-squared:                    nan\n",
       "Vol Model:                      GARCH   Log-Likelihood:                    nan\n",
       "Distribution:                  Normal   AIC:                               nan\n",
       "Method:            Maximum Likelihood   BIC:                               nan\n",
       "                                        No. Observations:                 2713\n",
       "Date:                Sun, Oct 11 2020   Df Residuals:                     2709\n",
       "Time:                        19:49:26   Df Model:                            4\n",
       "                               Mean Model                               \n",
       "========================================================================\n",
       "                 coef    std err          t      P>|t|  95.0% Conf. Int.\n",
       "------------------------------------------------------------------------\n",
       "mu                nan        nan        nan        nan [    nan,    nan]\n",
       "                            Volatility Model                            \n",
       "========================================================================\n",
       "                 coef    std err          t      P>|t|  95.0% Conf. Int.\n",
       "------------------------------------------------------------------------\n",
       "omega             nan        nan        nan        nan [    nan,    nan]\n",
       "alpha[1]       0.0100        nan        nan        nan [    nan,    nan]\n",
       "beta[1]        0.4900        nan        nan        nan [    nan,    nan]\n",
       "========================================================================\n",
       "\n",
       "Covariance estimator: robust\n",
       "WARNING: The optimizer did not indicate successful convergence. The message was Inequality constraints incompatible.\n",
       "See convergence_flag.\n",
       "\n",
       "ARCHModelResult, id: 0x1e8ed732608"
      ]
     },
     "execution_count": 18,
     "metadata": {},
     "output_type": "execute_result"
    }
   ],
   "source": [
    "model.fit()"
   ]
  },
  {
   "cell_type": "code",
   "execution_count": 19,
   "metadata": {},
   "outputs": [
    {
     "data": {
      "text/plain": [
       "<matplotlib.axes._subplots.AxesSubplot at 0x1e8eecfffc8>"
      ]
     },
     "execution_count": 19,
     "metadata": {},
     "output_type": "execute_result"
    },
    {
     "data": {
      "image/png": "[encoded data removed]",
      "text/plain": [
       "<Figure size 432x288 with 1 Axes>"
      ]
     },
     "metadata": {
      "needs_background": "light"
     },
     "output_type": "display_data"
    }
   ],
   "source": [
    "sns.distplot(returns)"
   ]
  },
  {
   "cell_type": "code",
   "execution_count": 20,
   "metadata": {},
   "outputs": [
    {
     "name": "stdout",
     "output_type": "stream",
     "text": [
      "<class 'pandas.core.frame.DataFrame'>\n",
      "DatetimeIndex: 2713 entries, 2009-12-31 to 2020-10-09\n",
      "Data columns (total 7 columns):\n",
      " #   Column     Non-Null Count  Dtype  \n",
      "---  ------     --------------  -----  \n",
      " 0   High       2713 non-null   float64\n",
      " 1   Low        2713 non-null   float64\n",
      " 2   Open       2713 non-null   float64\n",
      " 3   Close      2713 non-null   float64\n",
      " 4   Volume     2713 non-null   float64\n",
      " 5   Adj Close  2713 non-null   float64\n",
      " 6   return     2712 non-null   float64\n",
      "dtypes: float64(7)\n",
      "memory usage: 169.6 KB\n"
     ]
    }
   ],
   "source": [
    "aapl.info()"
   ]
  },
  {
   "cell_type": "code",
   "execution_count": 21,
   "metadata": {},
   "outputs": [
    {
     "data": {
      "text/html": [
       "<div>\n",
       "<style scoped>\n",
       "    .dataframe tbody tr th:only-of-type {\n",
       "        vertical-align: middle;\n",
       "    }\n",
       "\n",
       "    .dataframe tbody tr th {\n",
       "        vertical-align: top;\n",
       "    }\n",
       "\n",
       "    .dataframe thead th {\n",
       "        text-align: right;\n",
       "    }\n",
       "</style>\n",
       "<table border=\"1\" class=\"dataframe\">\n",
       "  <thead>\n",
       "    <tr style=\"text-align: right;\">\n",
       "      <th></th>\n",
       "      <th>High</th>\n",
       "      <th>Low</th>\n",
       "      <th>Open</th>\n",
       "      <th>Close</th>\n",
       "      <th>Volume</th>\n",
       "      <th>Adj Close</th>\n",
       "      <th>return</th>\n",
       "    </tr>\n",
       "  </thead>\n",
       "  <tbody>\n",
       "    <tr>\n",
       "      <th>count</th>\n",
       "      <td>2713.000000</td>\n",
       "      <td>2713.000000</td>\n",
       "      <td>2713.000000</td>\n",
       "      <td>2713.000000</td>\n",
       "      <td>2.713000e+03</td>\n",
       "      <td>2713.000000</td>\n",
       "      <td>2712.000000</td>\n",
       "    </tr>\n",
       "    <tr>\n",
       "      <th>mean</th>\n",
       "      <td>32.248187</td>\n",
       "      <td>31.597803</td>\n",
       "      <td>31.923297</td>\n",
       "      <td>31.937344</td>\n",
       "      <td>2.900167e+08</td>\n",
       "      <td>30.298789</td>\n",
       "      <td>-0.001065</td>\n",
       "    </tr>\n",
       "    <tr>\n",
       "      <th>std</th>\n",
       "      <td>21.550639</td>\n",
       "      <td>20.964800</td>\n",
       "      <td>21.260707</td>\n",
       "      <td>21.277844</td>\n",
       "      <td>2.300341e+08</td>\n",
       "      <td>21.736877</td>\n",
       "      <td>0.017765</td>\n",
       "    </tr>\n",
       "    <tr>\n",
       "      <th>min</th>\n",
       "      <td>7.000000</td>\n",
       "      <td>6.794643</td>\n",
       "      <td>6.870357</td>\n",
       "      <td>6.858929</td>\n",
       "      <td>3.247000e+07</td>\n",
       "      <td>5.927071</td>\n",
       "      <td>-0.113157</td>\n",
       "    </tr>\n",
       "    <tr>\n",
       "      <th>25%</th>\n",
       "      <td>17.307142</td>\n",
       "      <td>16.901785</td>\n",
       "      <td>17.071428</td>\n",
       "      <td>17.140358</td>\n",
       "      <td>1.231640e+08</td>\n",
       "      <td>15.128744</td>\n",
       "      <td>-0.010326</td>\n",
       "    </tr>\n",
       "    <tr>\n",
       "      <th>50%</th>\n",
       "      <td>26.857500</td>\n",
       "      <td>26.352501</td>\n",
       "      <td>26.642500</td>\n",
       "      <td>26.532499</td>\n",
       "      <td>2.076628e+08</td>\n",
       "      <td>24.708641</td>\n",
       "      <td>-0.001000</td>\n",
       "    </tr>\n",
       "    <tr>\n",
       "      <th>75%</th>\n",
       "      <td>42.580002</td>\n",
       "      <td>41.689999</td>\n",
       "      <td>42.097500</td>\n",
       "      <td>42.122501</td>\n",
       "      <td>3.916836e+08</td>\n",
       "      <td>40.743973</td>\n",
       "      <td>0.006953</td>\n",
       "    </tr>\n",
       "    <tr>\n",
       "      <th>max</th>\n",
       "      <td>137.979996</td>\n",
       "      <td>130.529999</td>\n",
       "      <td>137.589996</td>\n",
       "      <td>134.179993</td>\n",
       "      <td>1.880998e+09</td>\n",
       "      <td>134.179993</td>\n",
       "      <td>0.137708</td>\n",
       "    </tr>\n",
       "  </tbody>\n",
       "</table>\n",
       "</div>"
      ],
      "text/plain": [
       "              High          Low         Open        Close        Volume  \\\n",
       "count  2713.000000  2713.000000  2713.000000  2713.000000  2.713000e+03   \n",
       "mean     32.248187    31.597803    31.923297    31.937344  2.900167e+08   \n",
       "std      21.550639    20.964800    21.260707    21.277844  2.300341e+08   \n",
       "min       7.000000     6.794643     6.870357     6.858929  3.247000e+07   \n",
       "25%      17.307142    16.901785    17.071428    17.140358  1.231640e+08   \n",
       "50%      26.857500    26.352501    26.642500    26.532499  2.076628e+08   \n",
       "75%      42.580002    41.689999    42.097500    42.122501  3.916836e+08   \n",
       "max     137.979996   130.529999   137.589996   134.179993  1.880998e+09   \n",
       "\n",
       "         Adj Close       return  \n",
       "count  2713.000000  2712.000000  \n",
       "mean     30.298789    -0.001065  \n",
       "std      21.736877     0.017765  \n",
       "min       5.927071    -0.113157  \n",
       "25%      15.128744    -0.010326  \n",
       "50%      24.708641    -0.001000  \n",
       "75%      40.743973     0.006953  \n",
       "max     134.179993     0.137708  "
      ]
     },
     "execution_count": 21,
     "metadata": {},
     "output_type": "execute_result"
    }
   ],
   "source": [
    "aapl.describe()"
   ]
  },
  {
   "cell_type": "code",
   "execution_count": 22,
   "metadata": {},
   "outputs": [
    {
     "data": {
      "text/plain": [
       "['kurt', 'kurtosis']"
      ]
     },
     "execution_count": 22,
     "metadata": {},
     "output_type": "execute_result"
    }
   ],
   "source": [
    "list(filter(lambda x: x.find('kur')+1, list(dir(returns))))"
   ]
  },
  {
   "cell_type": "code",
   "execution_count": 23,
   "metadata": {},
   "outputs": [
    {
     "data": {
      "text/plain": [
       "0.34114879952441024"
      ]
     },
     "execution_count": 23,
     "metadata": {},
     "output_type": "execute_result"
    }
   ],
   "source": [
    "returns.skew()"
   ]
  },
  {
   "cell_type": "code",
   "execution_count": 24,
   "metadata": {},
   "outputs": [
    {
     "data": {
      "text/plain": [
       "6.628398326101754"
      ]
     },
     "execution_count": 24,
     "metadata": {},
     "output_type": "execute_result"
    }
   ],
   "source": [
    "returns.kurtosis()"
   ]
  },
  {
   "cell_type": "code",
   "execution_count": 25,
   "metadata": {},
   "outputs": [
    {
     "data": {
      "text/plain": [
       "6.628398326101754"
      ]
     },
     "execution_count": 25,
     "metadata": {},
     "output_type": "execute_result"
    }
   ],
   "source": [
    "returns.kurt()"
   ]
  },
  {
   "cell_type": "code",
   "execution_count": 31,
   "metadata": {},
   "outputs": [
    {
     "name": "stdout",
     "output_type": "stream",
     "text": [
      "Iteration:      1,   Func. Count:      6,   Neg. LLF: -3930.156615120461\n",
      "Iteration:      2,   Func. Count:     20,   Neg. LLF: -3931.9703988171964\n",
      "Optimization terminated successfully.    (Exit mode 0)\n",
      "            Current function value: -3931.9703979707\n",
      "            Iterations: 6\n",
      "            Function evaluations: 20\n",
      "            Gradient evaluations: 2\n"
     ]
    },
    {
     "name": "stderr",
     "output_type": "stream",
     "text": [
      "C:\\ProgramData\\Anaconda3\\lib\\site-packages\\arch\\univariate\\base.py:293: DataScaleWarning: y is poorly scaled, which may affect convergence of the optimizer when\n",
      "estimating the model parameters. The scale of y is 0.0003445. Parameter\n",
      "estimation work better when this value is between 1 and 1000. The recommended\n",
      "rescaling is 100 * y.\n",
      "\n",
      "This warning can be disabled by either rescaling y before initializing the\n",
      "model or by setting rescale=False.\n",
      "\n",
      "  data_scale_warning.format(orig_scale, rescale), DataScaleWarning\n"
     ]
    }
   ],
   "source": [
    "model2 = arch_model(returns.loc['2015-01-01':], p=1, q=1)\n",
    "result=model2.fit()"
   ]
  },
  {
   "cell_type": "code",
   "execution_count": 32,
   "metadata": {},
   "outputs": [
    {
     "data": {
      "image/png": "[encoded data removed]",
      "text/plain": [
       "<Figure size 432x288 with 2 Axes>"
      ]
     },
     "execution_count": 32,
     "metadata": {},
     "output_type": "execute_result"
    },
    {
     "data": {
      "image/png": "[encoded data removed]",
      "text/plain": [
       "<Figure size 432x288 with 2 Axes>"
      ]
     },
     "metadata": {
      "needs_background": "light"
     },
     "output_type": "display_data"
    }
   ],
   "source": [
    "result.plot()"
   ]
  },
  {
   "cell_type": "code",
   "execution_count": 33,
   "metadata": {},
   "outputs": [
    {
     "data": {
      "text/plain": [
       "arch.univariate.base.ARCHModelResult"
      ]
     },
     "execution_count": 33,
     "metadata": {},
     "output_type": "execute_result"
    }
   ],
   "source": [
    "type(result)"
   ]
  },
  {
   "cell_type": "code",
   "execution_count": 34,
   "metadata": {},
   "outputs": [
    {
     "data": {
      "text/html": [
       "<table class=\"simpletable\">\n",
       "<caption>Constant Mean - GARCH Model Results</caption>\n",
       "<tr>\n",
       "  <th>Dep. Variable:</th>       <td>return</td>       <th>  R-squared:         </th>  <td>  -0.001</td> \n",
       "</tr>\n",
       "<tr>\n",
       "  <th>Mean Model:</th>       <td>Constant Mean</td>   <th>  Adj. R-squared:    </th>  <td>  -0.001</td> \n",
       "</tr>\n",
       "<tr>\n",
       "  <th>Vol Model:</th>            <td>GARCH</td>       <th>  Log-Likelihood:    </th> <td>   3931.97</td>\n",
       "</tr>\n",
       "<tr>\n",
       "  <th>Distribution:</th>        <td>Normal</td>       <th>  AIC:               </th> <td>  -7855.94</td>\n",
       "</tr>\n",
       "<tr>\n",
       "  <th>Method:</th>        <td>Maximum Likelihood</td> <th>  BIC:               </th> <td>  -7834.81</td>\n",
       "</tr>\n",
       "<tr>\n",
       "  <th></th>                        <td></td>          <th>  No. Observations:  </th>    <td>1454</td>   \n",
       "</tr>\n",
       "<tr>\n",
       "  <th>Date:</th>           <td>Mon, Oct 12 2020</td>  <th>  Df Residuals:      </th>    <td>1450</td>   \n",
       "</tr>\n",
       "<tr>\n",
       "  <th>Time:</th>               <td>14:11:30</td>      <th>  Df Model:          </th>      <td>4</td>    \n",
       "</tr>\n",
       "</table>\n",
       "<table class=\"simpletable\">\n",
       "<caption>Mean Model</caption>\n",
       "<tr>\n",
       "   <td></td>     <th>coef</th>      <th>std err</th>      <th>t</th>       <th>P>|t|</th>      <th>95.0% Conf. Int.</th>    \n",
       "</tr>\n",
       "<tr>\n",
       "  <th>mu</th> <td>-1.7715e-03</td> <td>3.950e-04</td> <td>   -4.485</td> <td>7.305e-06</td> <td>[-2.546e-03,-9.973e-04]</td>\n",
       "</tr>\n",
       "</table>\n",
       "<table class=\"simpletable\">\n",
       "<caption>Volatility Model</caption>\n",
       "<tr>\n",
       "      <td></td>        <th>coef</th>     <th>std err</th>      <th>t</th>        <th>P>|t|</th>     <th>95.0% Conf. Int.</th>   \n",
       "</tr>\n",
       "<tr>\n",
       "  <th>omega</th>    <td>3.4451e-05</td> <td>3.637e-06</td> <td>    9.472</td>  <td>2.741e-21</td> <td>[2.732e-05,4.158e-05]</td>\n",
       "</tr>\n",
       "<tr>\n",
       "  <th>alpha[1]</th> <td>    0.2000</td> <td>2.993e-02</td> <td>    6.682</td>  <td>2.356e-11</td>   <td>[  0.141,  0.259]</td>  \n",
       "</tr>\n",
       "<tr>\n",
       "  <th>beta[1]</th>  <td>    0.7000</td> <td>2.818e-02</td> <td>   24.837</td> <td>3.592e-136</td>   <td>[  0.645,  0.755]</td>  \n",
       "</tr>\n",
       "</table><br/><br/>Covariance estimator: robust"
      ],
      "text/plain": [
       "<class 'statsmodels.iolib.summary.Summary'>\n",
       "\"\"\"\n",
       "                     Constant Mean - GARCH Model Results                      \n",
       "==============================================================================\n",
       "Dep. Variable:                 return   R-squared:                      -0.001\n",
       "Mean Model:             Constant Mean   Adj. R-squared:                 -0.001\n",
       "Vol Model:                      GARCH   Log-Likelihood:                3931.97\n",
       "Distribution:                  Normal   AIC:                          -7855.94\n",
       "Method:            Maximum Likelihood   BIC:                          -7834.81\n",
       "                                        No. Observations:                 1454\n",
       "Date:                Mon, Oct 12 2020   Df Residuals:                     1450\n",
       "Time:                        14:11:30   Df Model:                            4\n",
       "                                   Mean Model                                  \n",
       "===============================================================================\n",
       "                  coef    std err          t      P>|t|        95.0% Conf. Int.\n",
       "-------------------------------------------------------------------------------\n",
       "mu         -1.7715e-03  3.950e-04     -4.485  7.305e-06 [-2.546e-03,-9.973e-04]\n",
       "                              Volatility Model                              \n",
       "============================================================================\n",
       "                 coef    std err          t      P>|t|      95.0% Conf. Int.\n",
       "----------------------------------------------------------------------------\n",
       "omega      3.4451e-05  3.637e-06      9.472  2.741e-21 [2.732e-05,4.158e-05]\n",
       "alpha[1]       0.2000  2.993e-02      6.682  2.356e-11     [  0.141,  0.259]\n",
       "beta[1]        0.7000  2.818e-02     24.837 3.592e-136     [  0.645,  0.755]\n",
       "============================================================================\n",
       "\n",
       "Covariance estimator: robust\n",
       "\"\"\""
      ]
     },
     "execution_count": 34,
     "metadata": {},
     "output_type": "execute_result"
    }
   ],
   "source": [
    "result.summary()"
   ]
  },
  {
   "cell_type": "code",
   "execution_count": 37,
   "metadata": {},
   "outputs": [
    {
     "name": "stdout",
     "output_type": "stream",
     "text": [
      "['__class__', '__delattr__', '__dict__', '__dir__', '__doc__', '__eq__', '__format__', '__ge__', '__getattribute__', '__gt__', '__hash__', '__init__', '__init_subclass__', '__le__', '__lt__', '__module__', '__ne__', '__new__', '__reduce__', '__reduce_ex__', '__repr__', '__setattr__', '__sizeof__', '__str__', '__subclasshook__', '__weakref__', '_datetime', '_dep_name', '_dep_var', '_fit_indices', '_index', '_is_pandas', '_loglikelihood', '_model', '_names', '_nobs', '_optim_output', '_param_cov', '_params', '_r2', '_resid', '_volatility', 'aic', 'arch_lm_test', 'bic', 'conditional_volatility', 'conf_int', 'convergence_flag', 'cov_type', 'fit_start', 'fit_stop', 'forecast', 'hedgehog_plot', 'loglikelihood', 'model', 'nobs', 'num_params', 'optimization_result', 'param_cov', 'params', 'plot', 'pvalues', 'resid', 'rsquared', 'rsquared_adj', 'scale', 'std_err', 'std_resid', 'summary', 'tvalues']\n"
     ]
    }
   ],
   "source": [
    "print(dir(result))"
   ]
  },
  {
   "cell_type": "code",
   "execution_count": 40,
   "metadata": {},
   "outputs": [
    {
     "data": {
      "text/plain": [
       "Date\n",
       "2015-01-02    0.011330\n",
       "2015-01-05    0.030348\n",
       "2015-01-06    0.001677\n",
       "2015-01-07   -0.012153\n",
       "2015-01-08   -0.035931\n",
       "Name: resid, dtype: float64"
      ]
     },
     "execution_count": 40,
     "metadata": {},
     "output_type": "execute_result"
    }
   ],
   "source": [
    "result.resid.head()"
   ]
  },
  {
   "cell_type": "code",
   "execution_count": 43,
   "metadata": {},
   "outputs": [
    {
     "data": {
      "text/plain": [
       "arch.univariate.base.ARCHModelForecast"
      ]
     },
     "execution_count": 43,
     "metadata": {},
     "output_type": "execute_result"
    }
   ],
   "source": [
    "type(result.forecast(horizon=1))"
   ]
  },
  {
   "cell_type": "code",
   "execution_count": 44,
   "metadata": {},
   "outputs": [
    {
     "name": "stdout",
     "output_type": "stream",
     "text": [
      "['__class__', '__delattr__', '__dict__', '__dir__', '__doc__', '__eq__', '__format__', '__ge__', '__getattribute__', '__gt__', '__hash__', '__init__', '__init_subclass__', '__le__', '__lt__', '__module__', '__ne__', '__new__', '__reduce__', '__reduce_ex__', '__repr__', '__setattr__', '__sizeof__', '__str__', '__subclasshook__', '__weakref__', '_mean', '_residual_variance', '_sim', '_variance', 'mean', 'residual_variance', 'simulations', 'variance']\n"
     ]
    }
   ],
   "source": [
    "print(dir(result.forecast(horizon=1)))"
   ]
  },
  {
   "cell_type": "code",
   "execution_count": null,
   "metadata": {},
   "outputs": [],
   "source": []
  }
 ],
 "metadata": {
  "kernelspec": {
   "display_name": "Python 3",
   "language": "python",
   "name": "python3"
  },
  "language_info": {
   "codemirror_mode": {
    "name": "ipython",
    "version": 3
   },
   "file_extension": ".py",
   "mimetype": "text/x-python",
   "name": "python",
   "nbconvert_exporter": "python",
   "pygments_lexer": "ipython3",
   "version": "3.7.6"
  }
 },
 "nbformat": 4,
 "nbformat_minor": 4
}
