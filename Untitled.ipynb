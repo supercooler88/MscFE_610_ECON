{
 "cells": [
  {
   "cell_type": "code",
   "execution_count": 3,
   "metadata": {},
   "outputs": [],
   "source": [
    "import great_expectations as ge"
   ]
  },
  {
   "cell_type": "code",
   "execution_count": 4,
   "metadata": {},
   "outputs": [
    {
     "name": "stdout",
     "output_type": "stream",
     "text": [
      "['DataContext', '__builtins__', '__cached__', '__doc__', '__file__', '__loader__', '__name__', '__package__', '__path__', '__spec__', '__version__', '_version', 'core', 'data_asset', 'data_context', 'dataset', 'datasource', 'exceptions', 'from_pandas', 'marshmallow__shade', 'measure_execution_time', 'profile', 'read_csv', 'read_excel', 'read_feather', 'read_json', 'read_parquet', 'read_pickle', 'read_table', 'render', 'rtd_url_ge_version', 'types', 'util', 'validate', 'validation_operators', 'validator']\n"
     ]
    }
   ],
   "source": [
    "print(dir(great_expectations))"
   ]
  },
  {
   "cell_type": "code",
   "execution_count": 5,
   "metadata": {},
   "outputs": [
    {
     "name": "stdout",
     "output_type": "stream",
     "text": [
      " Volume in drive C is OS\n",
      " Volume Serial Number is 1418-1DB8\n",
      "\n",
      " Directory of C:\\Users\\santh\\Documents\\GitHub\\MscFE_610_ECON\n",
      "\n",
      "10/26/2020  08:02 PM    <DIR>          .\n",
      "10/26/2020  08:02 PM    <DIR>          ..\n",
      "10/26/2020  08:02 PM    <DIR>          .ipynb_checkpoints\n",
      "10/12/2020  02:00 PM           320,268 CAN5Yi.csv\n",
      "10/12/2020  02:05 PM            15,010 CPI_MONTHLY_CAN.csv\n",
      "10/11/2020  03:18 PM            26,112 CSUSHPISA.xls\n",
      "10/12/2020  02:19 PM           187,704 FX_RATES_DAILY.csv\n",
      "10/12/2020  02:27 PM            80,023 FX_RATES_DAILY_v2.csv\n",
      "10/11/2020  03:18 PM            86,080 JPM Statistics and Regression Analysis.xlsx\n",
      "10/11/2020  03:18 PM                18 README.md\n",
      "10/12/2020  04:05 PM           187,021 submission_1.ipynb\n",
      "10/12/2020  10:49 PM           394,128 submission_2.ipynb\n",
      "10/12/2020  02:16 PM           193,694 Submission_2_Vol_prediction.ipynb\n",
      "10/26/2020  06:04 PM            15,455 submission_3.ipynb\n",
      "10/26/2020  08:02 PM                72 Untitled.ipynb\n",
      "10/12/2020  02:05 PM             2,728 US_CPI.csv\n",
      "10/12/2020  01:59 PM            41,070 US5Yi.csv\n",
      "              14 File(s)      1,549,383 bytes\n",
      "               3 Dir(s)  53,770,969,088 bytes free\n"
     ]
    }
   ],
   "source": [
    "%ls"
   ]
  },
  {
   "cell_type": "code",
   "execution_count": 8,
   "metadata": {},
   "outputs": [],
   "source": [
    "df = ge.read_csv('FX_RATES_DAILY_v2.csv')"
   ]
  },
  {
   "cell_type": "code",
   "execution_count": 9,
   "metadata": {},
   "outputs": [
    {
     "data": {
      "text/plain": [
       "great_expectations.dataset.pandas_dataset.PandasDataset"
      ]
     },
     "execution_count": 9,
     "metadata": {},
     "output_type": "execute_result"
    }
   ],
   "source": [
    "type(df)"
   ]
  },
  {
   "cell_type": "code",
   "execution_count": 11,
   "metadata": {},
   "outputs": [
    {
     "name": "stdout",
     "output_type": "stream",
     "text": [
      "['CAD', 'Date', 'T', 'USD', '_AXIS_ALIASES', '_AXIS_IALIASES', '_AXIS_LEN', '_AXIS_NAMES', '_AXIS_NUMBERS', '_AXIS_ORDERS', '_AXIS_REVERSED', '__abs__', '__add__', '__and__', '__annotations__', '__array__', '__array_priority__', '__array_wrap__', '__bool__', '__class__', '__contains__', '__copy__', '__deepcopy__', '__delattr__', '__delitem__', '__dict__', '__dir__', '__div__', '__doc__', '__eq__', '__finalize__', '__floordiv__', '__format__', '__ge__', '__getattr__', '__getattribute__', '__getitem__', '__getstate__', '__gt__', '__hash__', '__iadd__', '__iand__', '__ifloordiv__', '__imod__', '__imul__', '__init__', '__init_subclass__', '__invert__', '__ior__', '__ipow__', '__isub__', '__iter__', '__itruediv__', '__ixor__', '__le__', '__len__', '__lt__', '__matmul__', '__mod__', '__module__', '__mul__', '__ne__', '__neg__', '__new__', '__nonzero__', '__or__', '__pos__', '__pow__', '__radd__', '__rand__', '__rdiv__', '__reduce__', '__reduce_ex__', '__repr__', '__rfloordiv__', '__rmatmul__', '__rmod__', '__rmul__', '__ror__', '__round__', '__rpow__', '__rsub__', '__rtruediv__', '__rxor__', '__setattr__', '__setitem__', '__setstate__', '__sizeof__', '__str__', '__sub__', '__subclasshook__', '__truediv__', '__weakref__', '__xor__', '_accessors', '_add_numeric_operations', '_add_series_or_dataframe_operations', '_agg_by_level', '_agg_examples_doc', '_agg_summary_and_see_also_doc', '_aggregate', '_aggregate_multiple_funcs', '_align_frame', '_align_series', '_apply_row_condition', '_box_col_values', '_box_item_values', '_builtin_table', '_calc_map_expectation_success', '_check_inplace_setting', '_check_is_chained_assignment_possible', '_check_label_or_level_ambiguity', '_check_setitem_copy', '_clear_item_cache', '_clip_with_one_bound', '_clip_with_scalar', '_combine_frame', '_combine_match_index', '_consolidate', '_consolidate_inplace', '_construct_axes_dict', '_construct_axes_dict_from', '_construct_axes_from_arguments', '_construct_result', '_constructor', '_constructor_expanddim', '_constructor_sliced', '_convert', '_count_level', '_create_indexer', '_cython_table', '_data_asset_type', '_deprecations', '_dir_additions', '_dir_deletions', '_drop_axis', '_drop_labels_or_levels', '_ensure_type', '_ensure_valid_index', '_expect_column_values_to_be_in_type_list__aggregate', '_expect_column_values_to_be_in_type_list__map', '_expect_column_values_to_be_of_type__aggregate', '_expect_column_values_to_be_of_type__map', '_find_valid_index', '_format_map_output', '_from_arrays', '_from_axes', '_get_agg_axis', '_get_axis', '_get_axis_name', '_get_axis_number', '_get_axis_resolvers', '_get_block_manager_axis', '_get_bool_data', '_get_cacher', '_get_cleaned_column_resolvers', '_get_cython_func', '_get_index_resolvers', '_get_item_cache', '_get_label_or_level_values', '_get_numeric_data', '_get_value', '_get_values', '_getitem_bool_array', '_getitem_multilevel', '_gotitem', '_iget_item_cache', '_indexed_same', '_info_axis', '_info_axis_name', '_info_axis_number', '_info_repr', '_init_mgr', '_initialize_expectations', '_internal_get_values', '_internal_names', '_internal_names_set', '_is_builtin_func', '_is_cached', '_is_copy', '_is_datelike_mixed_type', '_is_homogeneous_type', '_is_label_or_level_reference', '_is_label_reference', '_is_level_reference', '_is_mixed_type', '_is_numeric_mixed_type', '_is_view', '_ix', '_ixs', '_join_compat', '_maybe_cache_changed', '_maybe_update_cacher', '_metadata', '_native_type_type_map', '_needs_reindex_multi', '_obj_with_exclusions', '_parse_value_set', '_protect_consolidate', '_reduce', '_reindex_axes', '_reindex_columns', '_reindex_index', '_reindex_multi', '_reindex_with_indexers', '_repr_data_resource_', '_repr_fits_horizontal_', '_repr_fits_vertical_', '_repr_html_', '_repr_latex_', '_reset_cache', '_reset_cacher', '_sanitize_column', '_selected_obj', '_selection', '_selection_list', '_selection_name', '_series', '_set_as_cached', '_set_axis', '_set_axis_name', '_set_is_copy', '_set_item', '_set_value', '_setitem_array', '_setitem_frame', '_setitem_slice', '_setup_axes', '_slice', '_stat_axis', '_stat_axis_name', '_stat_axis_number', '_supports_row_condition', '_take_with_is_copy', '_to_dict_of_blocks', '_try_aggregate_string_function', '_typ', '_update_inplace', '_validate_dtype', '_values', '_where', '_xs', 'abs', 'add', 'add_citation', 'add_prefix', 'add_suffix', 'agg', 'aggregate', 'align', 'all', 'any', 'append', 'append_expectation', 'apply', 'applymap', 'asfreq', 'asof', 'assign', 'astype', 'at', 'at_time', 'attempt_allowing_relative_error', 'attrs', 'autoinspect', 'axes', 'batch_id', 'batch_kwargs', 'batch_markers', 'batch_parameters', 'between_time', 'bfill', 'bool', 'boxplot', 'clip', 'column_aggregate_expectation', 'column_map_expectation', 'column_pair_map_expectation', 'columns', 'combine', 'combine_first', 'convert_dtypes', 'copy', 'corr', 'corrwith', 'count', 'cov', 'cummax', 'cummin', 'cumprod', 'cumsum', 'describe', 'diff', 'discard_failing_expectations', 'div', 'divide', 'dot', 'drop', 'drop_duplicates', 'droplevel', 'dropna', 'dtypes', 'duplicated', 'edit_expectation_suite', 'empty', 'eq', 'equals', 'eval', 'ewm', 'expanding', 'expect_column_bootstrapped_ks_test_p_value_to_be_greater_than', 'expect_column_chisquare_test_p_value_to_be_greater_than', 'expect_column_distinct_values_to_be_in_set', 'expect_column_distinct_values_to_contain_set', 'expect_column_distinct_values_to_equal_set', 'expect_column_kl_divergence_to_be_less_than', 'expect_column_max_to_be_between', 'expect_column_mean_to_be_between', 'expect_column_median_to_be_between', 'expect_column_min_to_be_between', 'expect_column_most_common_value_to_be_in_set', 'expect_column_pair_cramers_phi_value_to_be_less_than', 'expect_column_pair_values_A_to_be_greater_than_B', 'expect_column_pair_values_to_be_equal', 'expect_column_pair_values_to_be_in_set', 'expect_column_parameterized_distribution_ks_test_p_value_to_be_greater_than', 'expect_column_proportion_of_unique_values_to_be_between', 'expect_column_quantile_values_to_be_between', 'expect_column_stdev_to_be_between', 'expect_column_sum_to_be_between', 'expect_column_to_exist', 'expect_column_unique_value_count_to_be_between', 'expect_column_value_lengths_to_be_between', 'expect_column_value_lengths_to_equal', 'expect_column_values_to_be_between', 'expect_column_values_to_be_dateutil_parseable', 'expect_column_values_to_be_decreasing', 'expect_column_values_to_be_in_set', 'expect_column_values_to_be_in_type_list', 'expect_column_values_to_be_increasing', 'expect_column_values_to_be_json_parseable', 'expect_column_values_to_be_null', 'expect_column_values_to_be_of_type', 'expect_column_values_to_be_unique', 'expect_column_values_to_match_json_schema', 'expect_column_values_to_match_regex', 'expect_column_values_to_match_regex_list', 'expect_column_values_to_match_strftime_format', 'expect_column_values_to_not_be_in_set', 'expect_column_values_to_not_be_null', 'expect_column_values_to_not_match_regex', 'expect_column_values_to_not_match_regex_list', 'expect_compound_columns_to_be_unique', 'expect_multicolumn_sum_to_equal', 'expect_multicolumn_values_to_be_unique', 'expect_select_column_values_to_be_unique_within_record', 'expect_table_column_count_to_be_between', 'expect_table_column_count_to_equal', 'expect_table_columns_to_match_ordered_list', 'expect_table_columns_to_match_set', 'expect_table_row_count_to_be_between', 'expect_table_row_count_to_equal', 'expectation', 'expectation_suite_name', 'explode', 'ffill', 'fillna', 'filter', 'find_expectation_indexes', 'find_expectations', 'first', 'first_valid_index', 'floordiv', 'from_dataset', 'from_dict', 'from_records', 'ge', 'get', 'get_binned_values', 'get_column_count', 'get_column_count_in_range', 'get_column_hist', 'get_column_max', 'get_column_mean', 'get_column_median', 'get_column_min', 'get_column_modes', 'get_column_nonnull_count', 'get_column_partition', 'get_column_quantiles', 'get_column_stdev', 'get_column_sum', 'get_column_unique_count', 'get_column_value_counts', 'get_config_value', 'get_crosstab', 'get_default_expectation_arguments', 'get_evaluation_parameter', 'get_expectation_suite', 'get_expectations_config', 'get_row_count', 'get_table_columns', 'groupby', 'gt', 'hashable_getters', 'head', 'hist', 'iat', 'idxmax', 'idxmin', 'iloc', 'index', 'infer_objects', 'info', 'insert', 'interpolate', 'isin', 'isna', 'isnull', 'items', 'iteritems', 'iterrows', 'itertuples', 'join', 'keys', 'kurt', 'kurtosis', 'last', 'last_valid_index', 'le', 'list_available_expectation_types', 'loc', 'lookup', 'lt', 'mad', 'mask', 'max', 'mean', 'median', 'melt', 'memory_usage', 'merge', 'min', 'mod', 'mode', 'mul', 'multicolumn_map_expectation', 'multiply', 'ndim', 'ne', 'nlargest', 'notna', 'notnull', 'nsmallest', 'nunique', 'pct_change', 'pipe', 'pivot', 'pivot_table', 'plot', 'pop', 'pow', 'prod', 'product', 'profile', 'quantile', 'query', 'radd', 'rank', 'rdiv', 'reindex', 'reindex_like', 'remove_expectation', 'rename', 'rename_axis', 'reorder_levels', 'replace', 'resample', 'reset_index', 'rfloordiv', 'rmod', 'rmul', 'rolling', 'round', 'rpow', 'rsub', 'rtruediv', 'sample', 'save_expectation_suite', 'select_dtypes', 'sem', 'set_axis', 'set_config_value', 'set_default_expectation_argument', 'set_evaluation_parameter', 'set_index', 'shape', 'shift', 'size', 'skew', 'slice_shift', 'sort_index', 'sort_values', 'squeeze', 'stack', 'std', 'style', 'sub', 'subtract', 'sum', 'swapaxes', 'swaplevel', 'tail', 'take', 'test_column_aggregate_expectation_function', 'test_column_map_expectation_function', 'test_expectation_function', 'to_clipboard', 'to_csv', 'to_dict', 'to_excel', 'to_feather', 'to_gbq', 'to_hdf', 'to_html', 'to_json', 'to_latex', 'to_markdown', 'to_numpy', 'to_parquet', 'to_period', 'to_pickle', 'to_records', 'to_sql', 'to_stata', 'to_string', 'to_timestamp', 'to_xarray', 'transform', 'transpose', 'truediv', 'truncate', 'tshift', 'tz_convert', 'tz_localize', 'unstack', 'update', 'validate', 'values', 'var', 'where', 'xs']\n"
     ]
    }
   ],
   "source": [
    "print(dir(df))"
   ]
  },
  {
   "cell_type": "code",
   "execution_count": null,
   "metadata": {},
   "outputs": [],
   "source": []
  }
 ],
 "metadata": {
  "kernelspec": {
   "display_name": "Python 3",
   "language": "python",
   "name": "python3"
  },
  "language_info": {
   "codemirror_mode": {
    "name": "ipython",
    "version": 3
   },
   "file_extension": ".py",
   "mimetype": "text/x-python",
   "name": "python",
   "nbconvert_exporter": "python",
   "pygments_lexer": "ipython3",
   "version": "3.7.6"
  }
 },
 "nbformat": 4,
 "nbformat_minor": 4
}
